{
  "nbformat": 4,
  "nbformat_minor": 0,
  "metadata": {
    "colab": {
      "name": "Ch2_Internet Meter Data Analysis.ipynb",
      "provenance": [],
      "authorship_tag": "ABX9TyNPqfRRurro5WXaP4fD8mZ4",
      "include_colab_link": true
    },
    "kernelspec": {
      "name": "python3",
      "display_name": "Python 3"
    },
    "language_info": {
      "name": "python"
    }
  },
  "cells": [
    {
      "cell_type": "markdown",
      "metadata": {
        "id": "view-in-github",
        "colab_type": "text"
      },
      "source": [
        "<a href=\"https://colab.research.google.com/github/muhamadrefo/DTSFGA/blob/main/Ch2_Internet_Meter_Data_Analysis.ipynb\" target=\"_parent\"><img src=\"https://colab.research.google.com/assets/colab-badge.svg\" alt=\"Open In Colab\"/></a>"
      ]
    },
    {
      "cell_type": "markdown",
      "metadata": {
        "id": "-SvILl3LVOy7"
      },
      "source": [
        "#Persiapan data (pre-processing)"
      ]
    },
    {
      "cell_type": "markdown",
      "metadata": {
        "id": "k8hPp_zTSNFX"
      },
      "source": [
        "Import dulu drivenya biar bisa akses file csvnya ntar"
      ]
    },
    {
      "cell_type": "code",
      "metadata": {
        "colab": {
          "base_uri": "https://localhost:8080/"
        },
        "id": "hlEMVL4mRxsE",
        "outputId": "988d67f7-6365-43de-96d3-5b97110f45ae"
      },
      "source": [
        "from google.colab import drive\n",
        "drive.mount('content/')"
      ],
      "execution_count": 1,
      "outputs": [
        {
          "output_type": "stream",
          "text": [
            "Mounted at content/\n"
          ],
          "name": "stdout"
        }
      ]
    },
    {
      "cell_type": "markdown",
      "metadata": {
        "id": "6EHRB085TP2B"
      },
      "source": [
        "pindahin tempat simpan filenya, biar ga pusing cari filenya"
      ]
    },
    {
      "cell_type": "code",
      "metadata": {
        "colab": {
          "base_uri": "https://localhost:8080/"
        },
        "id": "7fFxuneASMF0",
        "outputId": "600a6795-af81-4205-a6e4-5d9c739d3c06"
      },
      "source": [
        "%cd /content/content/MyDrive/FGA/Ch2\n",
        "%ls"
      ],
      "execution_count": 2,
      "outputs": [
        {
          "output_type": "stream",
          "text": [
            "/content/content/MyDrive/FGA/Ch2\n",
            "'2.2.4.5 Lab - San Francisco Crime.ipynb'              \u001b[0m\u001b[01;34mData\u001b[0m/\n",
            "'2.5.1.4 Lab - Internet Meter Data Analysis.ipynb'     \u001b[01;34mImages\u001b[0m/\n",
            "'2.5.2.4 Lab - Working With Python and SQLite.ipynb'   InternetSpeed.db\n",
            "'2.5.2.5 Lab - Internet Meter SQL.ipynb'               rpi_data_test.csv\n",
            " coworkers.csv                                         test.txt\n"
          ],
          "name": "stdout"
        }
      ]
    },
    {
      "cell_type": "markdown",
      "metadata": {
        "id": "QIzIVtBSTqJP"
      },
      "source": [
        "install Speedtest-cli buat ngukur Kecepatan Koneksi internet Upload dan Donwload "
      ]
    },
    {
      "cell_type": "code",
      "metadata": {
        "colab": {
          "base_uri": "https://localhost:8080/"
        },
        "id": "5_rB8z79TU-n",
        "outputId": "44902f91-77c1-45bf-bb9b-aef404aff125"
      },
      "source": [
        "!pip install speedtest-cli"
      ],
      "execution_count": 3,
      "outputs": [
        {
          "output_type": "stream",
          "text": [
            "Collecting speedtest-cli\n",
            "  Downloading speedtest_cli-2.1.3-py2.py3-none-any.whl (23 kB)\n",
            "Installing collected packages: speedtest-cli\n",
            "Successfully installed speedtest-cli-2.1.3\n"
          ],
          "name": "stdout"
        }
      ]
    },
    {
      "cell_type": "code",
      "metadata": {
        "id": "s2QwFrx7T2HV"
      },
      "source": [
        "import datetime\n",
        "import csv\n",
        "import subprocess"
      ],
      "execution_count": 4,
      "outputs": []
    },
    {
      "cell_type": "markdown",
      "metadata": {
        "id": "OofQw0aJVVMt"
      },
      "source": [
        "#1 Collect and Store Data\n",
        " Generate Waktu menggunakan paket `datetime`"
      ]
    },
    {
      "cell_type": "code",
      "metadata": {
        "colab": {
          "base_uri": "https://localhost:8080/"
        },
        "id": "mCMrwjFRT9DE",
        "outputId": "f220312e-41f7-48b3-8c32-9929ad138a59"
      },
      "source": [
        "date_time = datetime.datetime.now()\n",
        "print(date_time)"
      ],
      "execution_count": 5,
      "outputs": [
        {
          "output_type": "stream",
          "text": [
            "2021-08-28 23:57:50.369324\n"
          ],
          "name": "stdout"
        }
      ]
    },
    {
      "cell_type": "code",
      "metadata": {
        "colab": {
          "base_uri": "https://localhost:8080/",
          "height": 34
        },
        "id": "mCLZGsctURoX",
        "outputId": "5f9be9a8-2c66-4bcc-db26-9fff7421f2d4"
      },
      "source": [
        "date_time.strftime('%a, %d %b %Y %H:%M:%S')"
      ],
      "execution_count": 6,
      "outputs": [
        {
          "output_type": "execute_result",
          "data": {
            "application/vnd.google.colaboratory.intrinsic+json": {
              "type": "string"
            },
            "text/plain": [
              "'Sat, 28 Aug 2021 23:57:50'"
            ]
          },
          "metadata": {},
          "execution_count": 6
        }
      ]
    },
    {
      "cell_type": "code",
      "metadata": {
        "colab": {
          "base_uri": "https://localhost:8080/",
          "height": 34
        },
        "id": "Z79yflbnUmf9",
        "outputId": "333bc91e-115c-4dd8-f6e5-949e14a3124c"
      },
      "source": [
        "#code cell\n",
        "#bikin format YYYY-MM-DD HH:MM:SS\n",
        "date_time.strftime('%Y %b %d %H:%M:%S')"
      ],
      "execution_count": 7,
      "outputs": [
        {
          "output_type": "execute_result",
          "data": {
            "application/vnd.google.colaboratory.intrinsic+json": {
              "type": "string"
            },
            "text/plain": [
              "'2021 Aug 28 23:57:50'"
            ]
          },
          "metadata": {},
          "execution_count": 7
        }
      ]
    },
    {
      "cell_type": "markdown",
      "metadata": {
        "id": "rAR7DFQDVlUP"
      },
      "source": [
        "# Uji coba command `speedtest-cli`"
      ]
    },
    {
      "cell_type": "code",
      "metadata": {
        "colab": {
          "base_uri": "https://localhost:8080/"
        },
        "id": "hG39m9ssU5uA",
        "outputId": "11100bcb-3bd5-4e3a-c72f-990abb6388ee"
      },
      "source": [
        "# interface with speedtest.net\n",
        "speedtest_cmd = 'speedtest-cli --simple'\n",
        "\n",
        "# eksekusi process\n",
        "process = subprocess.Popen(speedtest_cmd.split(), stdout=subprocess.PIPE)\n",
        "\n",
        "# output\n",
        "process_output = process.communicate()[0]\n",
        "\n",
        "# print output\n",
        "print(process_output, type(process_output))\n",
        "\n",
        "#outputnya bakalan kek gini\n",
        "# b'Ping: 8.675 ms\\nDownload: 8.82 Mbit/s\\nUpload: 41.95 Mbit/s\\n' <class 'bytes'>"
      ],
      "execution_count": 8,
      "outputs": [
        {
          "output_type": "stream",
          "text": [
            "b'Ping: 7.042 ms\\nDownload: 1546.00 Mbit/s\\nUpload: 832.28 Mbit/s\\n' <class 'bytes'>\n"
          ],
          "name": "stdout"
        }
      ]
    },
    {
      "cell_type": "markdown",
      "metadata": {
        "id": "Wq5K_12UWxH6"
      },
      "source": [
        "biar enak diliat, kita edit sedikit"
      ]
    },
    {
      "cell_type": "code",
      "metadata": {
        "colab": {
          "base_uri": "https://localhost:8080/"
        },
        "id": "2LLmQWvRW0F6",
        "outputId": "84eefad8-f6a0-4ec3-f616-ce425051c2a9"
      },
      "source": [
        "date_time = datetime.datetime.now().strftime('%d-%m-%Y %H:%M:%S')\n",
        "process_output = process_output.split()\n",
        "process_output.append(date_time)\n",
        "print(process_output)"
      ],
      "execution_count": 9,
      "outputs": [
        {
          "output_type": "stream",
          "text": [
            "[b'Ping:', b'7.042', b'ms', b'Download:', b'1546.00', b'Mbit/s', b'Upload:', b'832.28', b'Mbit/s', '28-08-2021 23:57:54']\n"
          ],
          "name": "stdout"
        }
      ]
    },
    {
      "cell_type": "markdown",
      "metadata": {
        "id": "jOQeuYvwXsco"
      },
      "source": [
        "bikin fungsi speedtest()"
      ]
    },
    {
      "cell_type": "code",
      "metadata": {
        "colab": {
          "base_uri": "https://localhost:8080/"
        },
        "id": "u9RW-tXzXvNF",
        "outputId": "423a91b9-4666-4324-f540-1fce426ae998"
      },
      "source": [
        "def speedtest():\n",
        "  date_time = datetime.datetime.now().strftime('%d-%m-%Y %H:%M:%S')\n",
        "  speedtest_cmd = 'speedtest-cli --simple'\n",
        "  process = subprocess.Popen(speedtest_cmd.split(), stdout=subprocess.PIPE)\n",
        "  process_output = process.communicate()[0]\n",
        "  process_output = process_output.split()\n",
        "  process_output.append(date_time)\n",
        "  return process_output\n",
        "\n",
        "print(speedtest())"
      ],
      "execution_count": 10,
      "outputs": [
        {
          "output_type": "stream",
          "text": [
            "[b'Ping:', b'2.339', b'ms', b'Download:', b'1443.27', b'Mbit/s', b'Upload:', b'925.15', b'Mbit/s', '28-08-2021 23:57:54']\n"
          ],
          "name": "stdout"
        }
      ]
    },
    {
      "cell_type": "markdown",
      "metadata": {
        "id": "Qvna5xkhbg97"
      },
      "source": [
        "# Simpen hasil `speedtest` ke csv file"
      ]
    },
    {
      "cell_type": "code",
      "metadata": {
        "id": "4kXaJRMybngE"
      },
      "source": [
        "#test dulu bikin file .txt dengan isi file 'coba coba dulu ya'\n",
        "\n",
        "with open('/tmp/test.txt', 'w') as f:\n",
        "  f.write('coba coba dulu ya')"
      ],
      "execution_count": 11,
      "outputs": []
    },
    {
      "cell_type": "code",
      "metadata": {
        "colab": {
          "base_uri": "https://localhost:8080/"
        },
        "id": "pzZBybFvcBQB",
        "outputId": "ca7aabea-9907-4505-be52-8e6889864325"
      },
      "source": [
        "# cek dulu bener apa ngga isi filenya\n",
        "!cat /tmp/test.txt"
      ],
      "execution_count": 12,
      "outputs": [
        {
          "output_type": "stream",
          "text": [
            "coba coba dulu ya"
          ],
          "name": "stdout"
        }
      ]
    },
    {
      "cell_type": "code",
      "metadata": {
        "colab": {
          "base_uri": "https://localhost:8080/"
        },
        "id": "qDT6z9VbcMbc",
        "outputId": "ce079027-b011-4ecf-bbf3-d7ec23bd7533"
      },
      "source": [
        "# cek open file bisa apa ngga\n",
        "with open('/tmp/test.txt', 'r') as f:\n",
        "  str = f.read()\n",
        "print(str)"
      ],
      "execution_count": 13,
      "outputs": [
        {
          "output_type": "stream",
          "text": [
            "coba coba dulu ya\n"
          ],
          "name": "stdout"
        }
      ]
    },
    {
      "cell_type": "markdown",
      "metadata": {
        "id": "f-Dksee2cgcp"
      },
      "source": [
        "Bikin fungsi save to csv"
      ]
    },
    {
      "cell_type": "code",
      "metadata": {
        "id": "kpzVZdlQccOn"
      },
      "source": [
        "def savetocsv(data, filename):\n",
        "  try:\n",
        "    #kalau nilainya ga sama, kita append\n",
        "    with open(filename + '.csv', 'a') as f:\n",
        "      wr = csv.writer(f)\n",
        "      wr.writerow(data)\n",
        "  except:\n",
        "    #kalau nilainya ada yang sama, kita write biasa saja\n",
        "    with open(filename + '.csv', 'w') as f:\n",
        "      wr = csv.write(f)\n",
        "      wr.writerow(data)"
      ],
      "execution_count": 14,
      "outputs": []
    },
    {
      "cell_type": "code",
      "metadata": {
        "id": "BvBtamb9lruL"
      },
      "source": [
        "def print_from_csv(filename):\n",
        "  with open(filename + '.csv', 'r') as f:\n",
        "    re = csv.reader(f)\n",
        "    for row in re:\n",
        "      print(row)"
      ],
      "execution_count": 15,
      "outputs": []
    },
    {
      "cell_type": "code",
      "metadata": {
        "colab": {
          "base_uri": "https://localhost:8080/"
        },
        "id": "U1Lw3icBmKAa",
        "outputId": "b944ea79-54b8-46de-be21-70b30386166a"
      },
      "source": [
        "for i in range(5):\n",
        "  speedtest_output = speedtest()\n",
        "  print('Test number {}'.format(i))\n",
        "  print(speedtest_output)\n",
        "  savetocsv(speedtest_output, '/tmp/rpi_data_test')"
      ],
      "execution_count": 16,
      "outputs": [
        {
          "output_type": "stream",
          "text": [
            "Test number 0\n",
            "[b'Ping:', b'2.199', b'ms', b'Download:', b'1762.44', b'Mbit/s', b'Upload:', b'928.85', b'Mbit/s', '28-08-2021 23:57:59']\n",
            "Test number 1\n",
            "[b'Ping:', b'2.411', b'ms', b'Download:', b'1691.86', b'Mbit/s', b'Upload:', b'869.05', b'Mbit/s', '28-08-2021 23:58:02']\n",
            "Test number 2\n",
            "[b'Ping:', b'2.359', b'ms', b'Download:', b'1774.12', b'Mbit/s', b'Upload:', b'897.81', b'Mbit/s', '28-08-2021 23:58:06']\n",
            "Test number 3\n",
            "[b'Ping:', b'2.422', b'ms', b'Download:', b'1775.32', b'Mbit/s', b'Upload:', b'909.57', b'Mbit/s', '28-08-2021 23:58:10']\n",
            "Test number 4\n",
            "[b'Ping:', b'2.044', b'ms', b'Download:', b'1736.39', b'Mbit/s', b'Upload:', b'925.36', b'Mbit/s', '28-08-2021 23:58:14']\n"
          ],
          "name": "stdout"
        }
      ]
    },
    {
      "cell_type": "code",
      "metadata": {
        "colab": {
          "base_uri": "https://localhost:8080/"
        },
        "id": "_0WVYv-Nq7Vt",
        "outputId": "b3a8eb3a-9a95-45f0-f243-7b2b84c14a69"
      },
      "source": [
        "print_from_csv('/tmp/rpi_data_test')"
      ],
      "execution_count": 17,
      "outputs": [
        {
          "output_type": "stream",
          "text": [
            "[\"b'Ping:'\", \"b'2.199'\", \"b'ms'\", \"b'Download:'\", \"b'1762.44'\", \"b'Mbit/s'\", \"b'Upload:'\", \"b'928.85'\", \"b'Mbit/s'\", '28-08-2021 23:57:59']\n",
            "[\"b'Ping:'\", \"b'2.411'\", \"b'ms'\", \"b'Download:'\", \"b'1691.86'\", \"b'Mbit/s'\", \"b'Upload:'\", \"b'869.05'\", \"b'Mbit/s'\", '28-08-2021 23:58:02']\n",
            "[\"b'Ping:'\", \"b'2.359'\", \"b'ms'\", \"b'Download:'\", \"b'1774.12'\", \"b'Mbit/s'\", \"b'Upload:'\", \"b'897.81'\", \"b'Mbit/s'\", '28-08-2021 23:58:06']\n",
            "[\"b'Ping:'\", \"b'2.422'\", \"b'ms'\", \"b'Download:'\", \"b'1775.32'\", \"b'Mbit/s'\", \"b'Upload:'\", \"b'909.57'\", \"b'Mbit/s'\", '28-08-2021 23:58:10']\n",
            "[\"b'Ping:'\", \"b'2.044'\", \"b'ms'\", \"b'Download:'\", \"b'1736.39'\", \"b'Mbit/s'\", \"b'Upload:'\", \"b'925.36'\", \"b'Mbit/s'\", '28-08-2021 23:58:14']\n"
          ],
          "name": "stdout"
        }
      ]
    },
    {
      "cell_type": "markdown",
      "metadata": {
        "id": "8UO4IJpcNGSq"
      },
      "source": [
        "# 2 Manipulate Data"
      ]
    },
    {
      "cell_type": "code",
      "metadata": {
        "id": "SN4Pl2IbskUt",
        "colab": {
          "base_uri": "https://localhost:8080/"
        },
        "outputId": "aaa5b696-9297-4613-da2e-d05c1516c6d6"
      },
      "source": [
        "%cd Data/\n",
        "%ls\n"
      ],
      "execution_count": 19,
      "outputs": [
        {
          "output_type": "stream",
          "text": [
            "/content/content/My Drive/FGA/Ch2/Data\n",
            "InternetSpeed.db      Map-Crime_Incidents-Previous_Three_Months.csv\n",
            "LA_population.csv     rpi_data_compact.csv\n",
            "LA_wifi_speed_UK.csv  rpi_data_long.csv\n"
          ],
          "name": "stdout"
        }
      ]
    },
    {
      "cell_type": "code",
      "metadata": {
        "id": "kTNudNQQNiOD"
      },
      "source": [
        "import pandas as pd\n",
        "\n",
        "#data_file = pd.read_csv('rpi_data_long.csv', names=column_names) #cara cepat tanpa open with\n",
        "#data_file.head(5) #ini tanpa header\n",
        "data_file = 'rpi_data_long.csv'"
      ],
      "execution_count": 30,
      "outputs": []
    },
    {
      "cell_type": "code",
      "metadata": {
        "id": "thgChfijOH9x"
      },
      "source": [
        "column_names = [ 'Type A', 'Measure A', 'Units A',\n",
        "                 'Type B', 'Measure B', 'Units B',\n",
        "                 'Type C', 'Measure C', 'Units C', \n",
        "                 'Datetime']\n",
        "\n",
        "#data_file.head(5)"
      ],
      "execution_count": 31,
      "outputs": []
    },
    {
      "cell_type": "code",
      "metadata": {
        "id": "IVCtvifKOtSY"
      },
      "source": [
        "with open(data_file, 'r') as f:\n",
        "  df_redundant = pd.read_csv(f, names = column_names)\n",
        "df_redundant.head(20)"
      ],
      "execution_count": null,
      "outputs": []
    },
    {
      "cell_type": "code",
      "metadata": {
        "id": "8ZoFv2qRP1pd"
      },
      "source": [
        "#CREATE A CONCISE REPRESENTATION\\\n",
        "\n",
        "df_compact = df_redundant.copy()"
      ],
      "execution_count": 32,
      "outputs": []
    },
    {
      "cell_type": "code",
      "metadata": {
        "id": "EDo8fThhQFIT"
      },
      "source": [
        "#renaming columns\n",
        "\n",
        "df_compact.rename(columns={'Measure A':'Ping (ms)', \n",
        "                           'Measure B': 'Download (Mbit/s)',\n",
        "                           'Measure C': 'Upload (Mbit/s)'}, inplace= True)\n",
        "df_compact.head(3)"
      ],
      "execution_count": null,
      "outputs": []
    },
    {
      "cell_type": "code",
      "metadata": {
        "colab": {
          "base_uri": "https://localhost:8080/",
          "height": 206
        },
        "id": "GZFNK0KOQKHC",
        "outputId": "fdb1e27e-af11-4a0f-d9cd-a3f77c92ae52"
      },
      "source": [
        "# karena bentuk Types udah ga perlu, bisa kita drop aja\n",
        "df_compact.drop(['Type A', 'Type B', 'Type C',\n",
        "         'Units A', 'Units B', 'Units C'], axis=1, inplace=True)\n",
        "df_compact.head()"
      ],
      "execution_count": 35,
      "outputs": [
        {
          "output_type": "execute_result",
          "data": {
            "text/html": [
              "<div>\n",
              "<style scoped>\n",
              "    .dataframe tbody tr th:only-of-type {\n",
              "        vertical-align: middle;\n",
              "    }\n",
              "\n",
              "    .dataframe tbody tr th {\n",
              "        vertical-align: top;\n",
              "    }\n",
              "\n",
              "    .dataframe thead th {\n",
              "        text-align: right;\n",
              "    }\n",
              "</style>\n",
              "<table border=\"1\" class=\"dataframe\">\n",
              "  <thead>\n",
              "    <tr style=\"text-align: right;\">\n",
              "      <th></th>\n",
              "      <th>Ping (ms)</th>\n",
              "      <th>Download (Mbit/s)</th>\n",
              "      <th>Upload (Mbit/s)</th>\n",
              "      <th>Datetime</th>\n",
              "    </tr>\n",
              "  </thead>\n",
              "  <tbody>\n",
              "    <tr>\n",
              "      <th>0</th>\n",
              "      <td>26.992</td>\n",
              "      <td>91.80</td>\n",
              "      <td>14.31</td>\n",
              "      <td>2016-11-24 13:36:25</td>\n",
              "    </tr>\n",
              "    <tr>\n",
              "      <th>1</th>\n",
              "      <td>24.532</td>\n",
              "      <td>88.19</td>\n",
              "      <td>14.12</td>\n",
              "      <td>2016-11-24 13:36:55</td>\n",
              "    </tr>\n",
              "    <tr>\n",
              "      <th>2</th>\n",
              "      <td>20.225</td>\n",
              "      <td>59.86</td>\n",
              "      <td>14.11</td>\n",
              "      <td>2016-11-24 13:37:25</td>\n",
              "    </tr>\n",
              "    <tr>\n",
              "      <th>3</th>\n",
              "      <td>19.332</td>\n",
              "      <td>91.81</td>\n",
              "      <td>14.22</td>\n",
              "      <td>2016-11-24 13:37:57</td>\n",
              "    </tr>\n",
              "    <tr>\n",
              "      <th>4</th>\n",
              "      <td>22.494</td>\n",
              "      <td>92.05</td>\n",
              "      <td>14.08</td>\n",
              "      <td>2016-11-24 13:38:27</td>\n",
              "    </tr>\n",
              "  </tbody>\n",
              "</table>\n",
              "</div>"
            ],
            "text/plain": [
              "  Ping (ms) Download (Mbit/s)  Upload (Mbit/s)             Datetime\n",
              "0    26.992             91.80            14.31  2016-11-24 13:36:25\n",
              "1    24.532             88.19            14.12  2016-11-24 13:36:55\n",
              "2    20.225             59.86            14.11  2016-11-24 13:37:25\n",
              "3    19.332             91.81            14.22  2016-11-24 13:37:57\n",
              "4    22.494             92.05            14.08  2016-11-24 13:38:27"
            ]
          },
          "metadata": {},
          "execution_count": 35
        }
      ]
    },
    {
      "cell_type": "code",
      "metadata": {
        "colab": {
          "base_uri": "https://localhost:8080/"
        },
        "id": "Nb0BId0sQzOe",
        "outputId": "ba806a1b-2129-40c0-a59d-c22ae1a61351"
      },
      "source": [
        "# MEMISAHKAN DATA MENJADI DUA KOLOM\n",
        "\n",
        "df_compact['Date'] = df_compact['Datetime'].apply(lambda dt_str: pd.to_datetime(dt_str).date())\n",
        "df_compact['Date']"
      ],
      "execution_count": 38,
      "outputs": [
        {
          "output_type": "execute_result",
          "data": {
            "text/plain": [
              "0      2016-11-24\n",
              "1      2016-11-24\n",
              "2      2016-11-24\n",
              "3      2016-11-24\n",
              "4      2016-11-24\n",
              "          ...    \n",
              "675           NaT\n",
              "676           NaT\n",
              "677           NaT\n",
              "678           NaT\n",
              "679    2016-11-24\n",
              "Name: Date, Length: 680, dtype: object"
            ]
          },
          "metadata": {},
          "execution_count": 38
        }
      ]
    },
    {
      "cell_type": "code",
      "metadata": {
        "colab": {
          "base_uri": "https://localhost:8080/"
        },
        "id": "h8LJGSkkReVs",
        "outputId": "638c94e0-79d7-4d60-e685-39e380b9632b"
      },
      "source": [
        "temp = df_compact['Datetime'].apply(lambda dt_str: pd.to_datetime(dt_str))\n",
        "temp"
      ],
      "execution_count": 39,
      "outputs": [
        {
          "output_type": "execute_result",
          "data": {
            "text/plain": [
              "0     2016-11-24 13:36:25\n",
              "1     2016-11-24 13:36:55\n",
              "2     2016-11-24 13:37:25\n",
              "3     2016-11-24 13:37:57\n",
              "4     2016-11-24 13:38:27\n",
              "              ...        \n",
              "675                   NaT\n",
              "676                   NaT\n",
              "677                   NaT\n",
              "678                   NaT\n",
              "679   2016-11-24 19:18:16\n",
              "Name: Datetime, Length: 680, dtype: datetime64[ns]"
            ]
          },
          "metadata": {},
          "execution_count": 39
        }
      ]
    },
    {
      "cell_type": "code",
      "metadata": {
        "colab": {
          "base_uri": "https://localhost:8080/"
        },
        "id": "jeLhPbT7RogS",
        "outputId": "0e616786-11ea-4e8f-b5c7-93039da445c7"
      },
      "source": [
        "df_compact['Time']=temp.dt.time\n",
        "df_compact['Time']"
      ],
      "execution_count": 41,
      "outputs": [
        {
          "output_type": "execute_result",
          "data": {
            "text/plain": [
              "0      13:36:25\n",
              "1      13:36:55\n",
              "2      13:37:25\n",
              "3      13:37:57\n",
              "4      13:38:27\n",
              "         ...   \n",
              "675         NaT\n",
              "676         NaT\n",
              "677         NaT\n",
              "678         NaT\n",
              "679    19:18:16\n",
              "Name: Time, Length: 680, dtype: object"
            ]
          },
          "metadata": {},
          "execution_count": 41
        }
      ]
    },
    {
      "cell_type": "code",
      "metadata": {
        "colab": {
          "base_uri": "https://localhost:8080/",
          "height": 206
        },
        "id": "vYcHfbSLR3kV",
        "outputId": "6fad744f-fadb-476e-dd92-0fcfbebf5702"
      },
      "source": [
        "df_compact.head()\n",
        "# kita cuma butuh Date sama Time, jadi kita bakalan drop kolom datetime"
      ],
      "execution_count": 42,
      "outputs": [
        {
          "output_type": "execute_result",
          "data": {
            "text/html": [
              "<div>\n",
              "<style scoped>\n",
              "    .dataframe tbody tr th:only-of-type {\n",
              "        vertical-align: middle;\n",
              "    }\n",
              "\n",
              "    .dataframe tbody tr th {\n",
              "        vertical-align: top;\n",
              "    }\n",
              "\n",
              "    .dataframe thead th {\n",
              "        text-align: right;\n",
              "    }\n",
              "</style>\n",
              "<table border=\"1\" class=\"dataframe\">\n",
              "  <thead>\n",
              "    <tr style=\"text-align: right;\">\n",
              "      <th></th>\n",
              "      <th>Ping (ms)</th>\n",
              "      <th>Download (Mbit/s)</th>\n",
              "      <th>Upload (Mbit/s)</th>\n",
              "      <th>Datetime</th>\n",
              "      <th>Date</th>\n",
              "      <th>Time</th>\n",
              "    </tr>\n",
              "  </thead>\n",
              "  <tbody>\n",
              "    <tr>\n",
              "      <th>0</th>\n",
              "      <td>26.992</td>\n",
              "      <td>91.80</td>\n",
              "      <td>14.31</td>\n",
              "      <td>2016-11-24 13:36:25</td>\n",
              "      <td>2016-11-24</td>\n",
              "      <td>13:36:25</td>\n",
              "    </tr>\n",
              "    <tr>\n",
              "      <th>1</th>\n",
              "      <td>24.532</td>\n",
              "      <td>88.19</td>\n",
              "      <td>14.12</td>\n",
              "      <td>2016-11-24 13:36:55</td>\n",
              "      <td>2016-11-24</td>\n",
              "      <td>13:36:55</td>\n",
              "    </tr>\n",
              "    <tr>\n",
              "      <th>2</th>\n",
              "      <td>20.225</td>\n",
              "      <td>59.86</td>\n",
              "      <td>14.11</td>\n",
              "      <td>2016-11-24 13:37:25</td>\n",
              "      <td>2016-11-24</td>\n",
              "      <td>13:37:25</td>\n",
              "    </tr>\n",
              "    <tr>\n",
              "      <th>3</th>\n",
              "      <td>19.332</td>\n",
              "      <td>91.81</td>\n",
              "      <td>14.22</td>\n",
              "      <td>2016-11-24 13:37:57</td>\n",
              "      <td>2016-11-24</td>\n",
              "      <td>13:37:57</td>\n",
              "    </tr>\n",
              "    <tr>\n",
              "      <th>4</th>\n",
              "      <td>22.494</td>\n",
              "      <td>92.05</td>\n",
              "      <td>14.08</td>\n",
              "      <td>2016-11-24 13:38:27</td>\n",
              "      <td>2016-11-24</td>\n",
              "      <td>13:38:27</td>\n",
              "    </tr>\n",
              "  </tbody>\n",
              "</table>\n",
              "</div>"
            ],
            "text/plain": [
              "  Ping (ms) Download (Mbit/s)  ...        Date      Time\n",
              "0    26.992             91.80  ...  2016-11-24  13:36:25\n",
              "1    24.532             88.19  ...  2016-11-24  13:36:55\n",
              "2    20.225             59.86  ...  2016-11-24  13:37:25\n",
              "3    19.332             91.81  ...  2016-11-24  13:37:57\n",
              "4    22.494             92.05  ...  2016-11-24  13:38:27\n",
              "\n",
              "[5 rows x 6 columns]"
            ]
          },
          "metadata": {},
          "execution_count": 42
        }
      ]
    },
    {
      "cell_type": "code",
      "metadata": {
        "colab": {
          "base_uri": "https://localhost:8080/",
          "height": 206
        },
        "id": "XNLMxk_0SI5J",
        "outputId": "738e1ab4-7839-4213-95f3-25c5182196d0"
      },
      "source": [
        "df_compact.drop(['Datetime'],axis=1, inplace=True)\n",
        "df_compact.head()"
      ],
      "execution_count": 43,
      "outputs": [
        {
          "output_type": "execute_result",
          "data": {
            "text/html": [
              "<div>\n",
              "<style scoped>\n",
              "    .dataframe tbody tr th:only-of-type {\n",
              "        vertical-align: middle;\n",
              "    }\n",
              "\n",
              "    .dataframe tbody tr th {\n",
              "        vertical-align: top;\n",
              "    }\n",
              "\n",
              "    .dataframe thead th {\n",
              "        text-align: right;\n",
              "    }\n",
              "</style>\n",
              "<table border=\"1\" class=\"dataframe\">\n",
              "  <thead>\n",
              "    <tr style=\"text-align: right;\">\n",
              "      <th></th>\n",
              "      <th>Ping (ms)</th>\n",
              "      <th>Download (Mbit/s)</th>\n",
              "      <th>Upload (Mbit/s)</th>\n",
              "      <th>Date</th>\n",
              "      <th>Time</th>\n",
              "    </tr>\n",
              "  </thead>\n",
              "  <tbody>\n",
              "    <tr>\n",
              "      <th>0</th>\n",
              "      <td>26.992</td>\n",
              "      <td>91.80</td>\n",
              "      <td>14.31</td>\n",
              "      <td>2016-11-24</td>\n",
              "      <td>13:36:25</td>\n",
              "    </tr>\n",
              "    <tr>\n",
              "      <th>1</th>\n",
              "      <td>24.532</td>\n",
              "      <td>88.19</td>\n",
              "      <td>14.12</td>\n",
              "      <td>2016-11-24</td>\n",
              "      <td>13:36:55</td>\n",
              "    </tr>\n",
              "    <tr>\n",
              "      <th>2</th>\n",
              "      <td>20.225</td>\n",
              "      <td>59.86</td>\n",
              "      <td>14.11</td>\n",
              "      <td>2016-11-24</td>\n",
              "      <td>13:37:25</td>\n",
              "    </tr>\n",
              "    <tr>\n",
              "      <th>3</th>\n",
              "      <td>19.332</td>\n",
              "      <td>91.81</td>\n",
              "      <td>14.22</td>\n",
              "      <td>2016-11-24</td>\n",
              "      <td>13:37:57</td>\n",
              "    </tr>\n",
              "    <tr>\n",
              "      <th>4</th>\n",
              "      <td>22.494</td>\n",
              "      <td>92.05</td>\n",
              "      <td>14.08</td>\n",
              "      <td>2016-11-24</td>\n",
              "      <td>13:38:27</td>\n",
              "    </tr>\n",
              "  </tbody>\n",
              "</table>\n",
              "</div>"
            ],
            "text/plain": [
              "  Ping (ms) Download (Mbit/s)  Upload (Mbit/s)        Date      Time\n",
              "0    26.992             91.80            14.31  2016-11-24  13:36:25\n",
              "1    24.532             88.19            14.12  2016-11-24  13:36:55\n",
              "2    20.225             59.86            14.11  2016-11-24  13:37:25\n",
              "3    19.332             91.81            14.22  2016-11-24  13:37:57\n",
              "4    22.494             92.05            14.08  2016-11-24  13:38:27"
            ]
          },
          "metadata": {},
          "execution_count": 43
        }
      ]
    },
    {
      "cell_type": "code",
      "metadata": {
        "colab": {
          "base_uri": "https://localhost:8080/"
        },
        "id": "7LGjZqNBSegc",
        "outputId": "c20240c0-465e-4c99-949a-f409441e4373"
      },
      "source": [
        "#cek tipe kelas pada kolom date sama time\n",
        "\n",
        "print(df_compact['Date'][0], type(df_compact['Date'][0]))\n",
        "print(df_compact['Time'][0], type(df_compact['Time'][0]))"
      ],
      "execution_count": 44,
      "outputs": [
        {
          "output_type": "stream",
          "text": [
            "2016-11-24 <class 'datetime.date'>\n",
            "13:36:25 <class 'datetime.time'>\n"
          ],
          "name": "stdout"
        }
      ]
    },
    {
      "cell_type": "code",
      "metadata": {
        "id": "xaFhyLvYSr5u"
      },
      "source": [
        "#Save ke dataframe baru\n",
        "df_compact.to_csv('rpi_new_data_compact.csv')"
      ],
      "execution_count": 45,
      "outputs": []
    },
    {
      "cell_type": "code",
      "metadata": {
        "colab": {
          "base_uri": "https://localhost:8080/",
          "height": 206
        },
        "id": "B-2lp4KQS9mw",
        "outputId": "27f92256-b706-4c99-a37b-192d94334a34"
      },
      "source": [
        "df_newCompact = pd.read_csv('rpi_new_data_compact.csv')\n",
        "df_newCompact.head()"
      ],
      "execution_count": 46,
      "outputs": [
        {
          "output_type": "execute_result",
          "data": {
            "text/html": [
              "<div>\n",
              "<style scoped>\n",
              "    .dataframe tbody tr th:only-of-type {\n",
              "        vertical-align: middle;\n",
              "    }\n",
              "\n",
              "    .dataframe tbody tr th {\n",
              "        vertical-align: top;\n",
              "    }\n",
              "\n",
              "    .dataframe thead th {\n",
              "        text-align: right;\n",
              "    }\n",
              "</style>\n",
              "<table border=\"1\" class=\"dataframe\">\n",
              "  <thead>\n",
              "    <tr style=\"text-align: right;\">\n",
              "      <th></th>\n",
              "      <th>Unnamed: 0</th>\n",
              "      <th>Ping (ms)</th>\n",
              "      <th>Download (Mbit/s)</th>\n",
              "      <th>Upload (Mbit/s)</th>\n",
              "      <th>Date</th>\n",
              "      <th>Time</th>\n",
              "    </tr>\n",
              "  </thead>\n",
              "  <tbody>\n",
              "    <tr>\n",
              "      <th>0</th>\n",
              "      <td>0</td>\n",
              "      <td>26.992</td>\n",
              "      <td>91.80</td>\n",
              "      <td>14.31</td>\n",
              "      <td>2016-11-24</td>\n",
              "      <td>13:36:25</td>\n",
              "    </tr>\n",
              "    <tr>\n",
              "      <th>1</th>\n",
              "      <td>1</td>\n",
              "      <td>24.532</td>\n",
              "      <td>88.19</td>\n",
              "      <td>14.12</td>\n",
              "      <td>2016-11-24</td>\n",
              "      <td>13:36:55</td>\n",
              "    </tr>\n",
              "    <tr>\n",
              "      <th>2</th>\n",
              "      <td>2</td>\n",
              "      <td>20.225</td>\n",
              "      <td>59.86</td>\n",
              "      <td>14.11</td>\n",
              "      <td>2016-11-24</td>\n",
              "      <td>13:37:25</td>\n",
              "    </tr>\n",
              "    <tr>\n",
              "      <th>3</th>\n",
              "      <td>3</td>\n",
              "      <td>19.332</td>\n",
              "      <td>91.81</td>\n",
              "      <td>14.22</td>\n",
              "      <td>2016-11-24</td>\n",
              "      <td>13:37:57</td>\n",
              "    </tr>\n",
              "    <tr>\n",
              "      <th>4</th>\n",
              "      <td>4</td>\n",
              "      <td>22.494</td>\n",
              "      <td>92.05</td>\n",
              "      <td>14.08</td>\n",
              "      <td>2016-11-24</td>\n",
              "      <td>13:38:27</td>\n",
              "    </tr>\n",
              "  </tbody>\n",
              "</table>\n",
              "</div>"
            ],
            "text/plain": [
              "   Unnamed: 0 Ping (ms)  ...        Date      Time\n",
              "0           0    26.992  ...  2016-11-24  13:36:25\n",
              "1           1    24.532  ...  2016-11-24  13:36:55\n",
              "2           2    20.225  ...  2016-11-24  13:37:25\n",
              "3           3    19.332  ...  2016-11-24  13:37:57\n",
              "4           4    22.494  ...  2016-11-24  13:38:27\n",
              "\n",
              "[5 rows x 6 columns]"
            ]
          },
          "metadata": {},
          "execution_count": 46
        }
      ]
    }
  ]
}