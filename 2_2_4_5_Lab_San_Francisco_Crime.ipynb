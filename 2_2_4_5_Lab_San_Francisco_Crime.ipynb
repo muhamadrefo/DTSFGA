{
  "nbformat": 4,
  "nbformat_minor": 0,
  "metadata": {
    "kernelspec": {
      "display_name": "Python 3",
      "language": "python",
      "name": "python3"
    },
    "language_info": {
      "codemirror_mode": {
        "name": "ipython",
        "version": 3
      },
      "file_extension": ".py",
      "mimetype": "text/x-python",
      "name": "python",
      "nbconvert_exporter": "python",
      "pygments_lexer": "ipython3",
      "version": "3.6.0"
    },
    "colab": {
      "name": "2.2.4.5 Lab - San Francisco Crime.ipynb",
      "provenance": [],
      "include_colab_link": true
    }
  },
  "cells": [
    {
      "cell_type": "markdown",
      "metadata": {
        "id": "view-in-github",
        "colab_type": "text"
      },
      "source": [
        "<a href=\"https://colab.research.google.com/github/muhamadrefo/DTSFGA/blob/main/2_2_4_5_Lab_San_Francisco_Crime.ipynb\" target=\"_parent\"><img src=\"https://colab.research.google.com/assets/colab-badge.svg\" alt=\"Open In Colab\"/></a>"
      ]
    },
    {
      "cell_type": "markdown",
      "metadata": {
        "id": "wCKFOTvxO4kA"
      },
      "source": [
        "![Title](Images/cisco.png)"
      ]
    },
    {
      "cell_type": "markdown",
      "metadata": {
        "id": "GfCTZ_hdO4kF"
      },
      "source": [
        "# Lab - San Francisco Crime \n",
        "### Objectives\n",
        "\n",
        "Demonstrate your knowledge of the Data Analysis Lifecycle using a given set of data and the tools, Python and Jupyter Notebook\n",
        "\n",
        "#### Part 1: Import the Python Packages\n",
        "#### Part 2: Load the Data\n",
        "#### Part 3: Prepare the Data\n",
        "#### Part 4: Analyze the Data\n",
        "#### Part 5: Visualize the Data\n",
        "\n",
        "### Background / Scenario\n",
        "\n",
        "In this lab, you will import some Python packages required to analyze a data set containing San Francisco crime information. You will then use Python and Jupyter Notebook to prepare this data for analysis, analyze it, graph it, and communicate your findings.\n",
        "\n",
        "### Required Resources\n",
        "\n",
        "* 1 PC with Internet access\n",
        "* Raspberry Pi version 2 or higher\n",
        "* Python libraries: pandas, numpy, matplotlib, folium, datetime, and csv\n",
        "* Datafiles: Map-Crime_Incidents-Previous_Three_Months.csv"
      ]
    },
    {
      "cell_type": "markdown",
      "metadata": {
        "id": "ddjBytdJO4ke"
      },
      "source": [
        "## Part 1: Import the Python Packages\n",
        "\n",
        "In this part, you will import the following Python packages necessary for the rest of this lab.\n",
        "#### numpy \n",
        "NumPy is the fundamental package for scientific computing with Python. It contains among other things: a powerful N-dimensional array object and sophisticated (broadcasting) functions.\n",
        "#### pandas \n",
        "Pandas is an open source, BSD-licensed library providing high-performance, easy-to-use data structures and data analysis tools for the Python programming language.\n",
        "#### matplotlib\n",
        "Matplotlib is a plotting library for the Python programming language and its numerical mathematics extension NumPy.\n",
        "#### folium \n",
        "Folim is a library to create interactive map."
      ]
    },
    {
      "cell_type": "code",
      "metadata": {
        "collapsed": true,
        "id": "RVeeWI2fO4kh"
      },
      "source": [
        "# Code cell 1\n",
        "%matplotlib inline\n",
        "import numpy as np\n",
        "import pandas as pd\n",
        "import matplotlib.pyplot as plt\n",
        "import folium "
      ],
      "execution_count": null,
      "outputs": []
    },
    {
      "cell_type": "markdown",
      "metadata": {
        "id": "9qpdf4llO4kj"
      },
      "source": [
        "## Part 2: Load the Data\n",
        "\n",
        "In this part, you will load the San Francisco Crime Dataset and the Python packages necessary to analyze and visualize it."
      ]
    },
    {
      "cell_type": "markdown",
      "metadata": {
        "id": "G--lJvulO4kl"
      },
      "source": [
        "#### Step 1: Load the San Francisco Crime data into a data frame.\n",
        "In this step, you will import the San Francisco crime data from a comma separated values (csv) file into a data frame."
      ]
    },
    {
      "cell_type": "code",
      "metadata": {
        "collapsed": true,
        "id": "f428YU7kO4k9"
      },
      "source": [
        "# code cell 2\n",
        "# This should be a local path\n",
        "dataset_path = '/content/Map-Crime_Incidents-Previous_Three_Months.csv'\n",
        "\n",
        "# read the original dataset (in comma separated values format) into a DataFrame\n",
        "SF = pd.read_csv(dataset_path)"
      ],
      "execution_count": null,
      "outputs": []
    },
    {
      "cell_type": "markdown",
      "metadata": {
        "id": "z7VSdw3NO4k_"
      },
      "source": [
        "To view the first five lines of the csv file, the Linux command `head` is used."
      ]
    },
    {
      "cell_type": "code",
      "metadata": {
        "collapsed": true,
        "colab": {
          "base_uri": "https://localhost:8080/",
          "height": 380
        },
        "id": "0E9hrMZkO4lB",
        "outputId": "be525eb1-059a-42a0-80fb-30563c62fb8e"
      },
      "source": [
        "# code cell 3\n",
        "SF.head(5)"
      ],
      "execution_count": null,
      "outputs": [
        {
          "output_type": "execute_result",
          "data": {
            "text/html": [
              "<div>\n",
              "<style scoped>\n",
              "    .dataframe tbody tr th:only-of-type {\n",
              "        vertical-align: middle;\n",
              "    }\n",
              "\n",
              "    .dataframe tbody tr th {\n",
              "        vertical-align: top;\n",
              "    }\n",
              "\n",
              "    .dataframe thead th {\n",
              "        text-align: right;\n",
              "    }\n",
              "</style>\n",
              "<table border=\"1\" class=\"dataframe\">\n",
              "  <thead>\n",
              "    <tr style=\"text-align: right;\">\n",
              "      <th></th>\n",
              "      <th>IncidntNum</th>\n",
              "      <th>Category</th>\n",
              "      <th>Descript</th>\n",
              "      <th>DayOfWeek</th>\n",
              "      <th>Date</th>\n",
              "      <th>Time</th>\n",
              "      <th>PdDistrict</th>\n",
              "      <th>Resolution</th>\n",
              "      <th>Address</th>\n",
              "      <th>X</th>\n",
              "      <th>Y</th>\n",
              "      <th>Location</th>\n",
              "    </tr>\n",
              "  </thead>\n",
              "  <tbody>\n",
              "    <tr>\n",
              "      <th>0</th>\n",
              "      <td>NaN</td>\n",
              "      <td>LARCENY/THEFT</td>\n",
              "      <td>GRAND THEFT FROM UNLOCKED AUTO</td>\n",
              "      <td>Sunday</td>\n",
              "      <td>08/31/2014 07:00:00 AM +0000</td>\n",
              "      <td>20:30</td>\n",
              "      <td>CENTRAL</td>\n",
              "      <td>NONE</td>\n",
              "      <td>HYDE ST / CALIFORNIA ST</td>\n",
              "      <td>-122.417393</td>\n",
              "      <td>37.790974</td>\n",
              "      <td>(37.7909741243888, -122.417392830334)</td>\n",
              "    </tr>\n",
              "    <tr>\n",
              "      <th>1</th>\n",
              "      <td>NaN</td>\n",
              "      <td>LARCENY/THEFT</td>\n",
              "      <td>GRAND THEFT FROM LOCKED AUTO</td>\n",
              "      <td>Sunday</td>\n",
              "      <td>08/31/2014 07:00:00 AM +0000</td>\n",
              "      <td>14:30</td>\n",
              "      <td>CENTRAL</td>\n",
              "      <td>NONE</td>\n",
              "      <td>COLUMBUS AV / JACKSON ST</td>\n",
              "      <td>-122.404418</td>\n",
              "      <td>37.796302</td>\n",
              "      <td>(37.7963018736036, -122.404417620748)</td>\n",
              "    </tr>\n",
              "    <tr>\n",
              "      <th>2</th>\n",
              "      <td>NaN</td>\n",
              "      <td>LARCENY/THEFT</td>\n",
              "      <td>GRAND THEFT FROM LOCKED AUTO</td>\n",
              "      <td>Sunday</td>\n",
              "      <td>08/31/2014 07:00:00 AM +0000</td>\n",
              "      <td>11:30</td>\n",
              "      <td>CENTRAL</td>\n",
              "      <td>NONE</td>\n",
              "      <td>SUTTER ST / STOCKTON ST</td>\n",
              "      <td>-122.406959</td>\n",
              "      <td>37.789435</td>\n",
              "      <td>(37.7894347630337, -122.406958660602)</td>\n",
              "    </tr>\n",
              "    <tr>\n",
              "      <th>3</th>\n",
              "      <td>NaN</td>\n",
              "      <td>DRUG/NARCOTIC</td>\n",
              "      <td>POSSESSION OF METH-AMPHETAMINE</td>\n",
              "      <td>Sunday</td>\n",
              "      <td>08/31/2014 07:00:00 AM +0000</td>\n",
              "      <td>17:49</td>\n",
              "      <td>MISSION</td>\n",
              "      <td>ARREST, BOOKED</td>\n",
              "      <td>16TH ST / MISSION ST</td>\n",
              "      <td>-122.419672</td>\n",
              "      <td>37.765050</td>\n",
              "      <td>(37.7650501214965, -122.419671780296)</td>\n",
              "    </tr>\n",
              "    <tr>\n",
              "      <th>4</th>\n",
              "      <td>NaN</td>\n",
              "      <td>DRUG/NARCOTIC</td>\n",
              "      <td>POSSESSION OF COCAINE</td>\n",
              "      <td>Sunday</td>\n",
              "      <td>08/31/2014 07:00:00 AM +0000</td>\n",
              "      <td>18:05</td>\n",
              "      <td>NORTHERN</td>\n",
              "      <td>ARREST, BOOKED</td>\n",
              "      <td>LARKIN ST / OFARRELL ST</td>\n",
              "      <td>-122.417904</td>\n",
              "      <td>37.785167</td>\n",
              "      <td>(37.7851670875814, -122.417903977564)</td>\n",
              "    </tr>\n",
              "  </tbody>\n",
              "</table>\n",
              "</div>"
            ],
            "text/plain": [
              "   IncidntNum       Category  ...          Y                               Location\n",
              "0         NaN  LARCENY/THEFT  ...  37.790974  (37.7909741243888, -122.417392830334)\n",
              "1         NaN  LARCENY/THEFT  ...  37.796302  (37.7963018736036, -122.404417620748)\n",
              "2         NaN  LARCENY/THEFT  ...  37.789435  (37.7894347630337, -122.406958660602)\n",
              "3         NaN  DRUG/NARCOTIC  ...  37.765050  (37.7650501214965, -122.419671780296)\n",
              "4         NaN  DRUG/NARCOTIC  ...  37.785167  (37.7851670875814, -122.417903977564)\n",
              "\n",
              "[5 rows x 12 columns]"
            ]
          },
          "metadata": {},
          "execution_count": 3
        }
      ]
    },
    {
      "cell_type": "markdown",
      "metadata": {
        "id": "IlMnel1RO4lD"
      },
      "source": [
        "#### Step 2: View the imported data.\n",
        "\n",
        "a) By typing the name of the data frame variable into a cell, you can visualize the top and bottom rows in a structured way."
      ]
    },
    {
      "cell_type": "code",
      "metadata": {
        "collapsed": true,
        "colab": {
          "base_uri": "https://localhost:8080/",
          "height": 770
        },
        "id": "2QMkHx8CO4lF",
        "outputId": "8dbe4088-2536-473a-e52c-d6fd26c47ad4"
      },
      "source": [
        "# Code cell 4\n",
        "pd.set_option('display.max_rows', 10) #Visualize 10 rows \n",
        "SF"
      ],
      "execution_count": null,
      "outputs": [
        {
          "output_type": "execute_result",
          "data": {
            "text/html": [
              "<div>\n",
              "<style scoped>\n",
              "    .dataframe tbody tr th:only-of-type {\n",
              "        vertical-align: middle;\n",
              "    }\n",
              "\n",
              "    .dataframe tbody tr th {\n",
              "        vertical-align: top;\n",
              "    }\n",
              "\n",
              "    .dataframe thead th {\n",
              "        text-align: right;\n",
              "    }\n",
              "</style>\n",
              "<table border=\"1\" class=\"dataframe\">\n",
              "  <thead>\n",
              "    <tr style=\"text-align: right;\">\n",
              "      <th></th>\n",
              "      <th>IncidntNum</th>\n",
              "      <th>Category</th>\n",
              "      <th>Descript</th>\n",
              "      <th>DayOfWeek</th>\n",
              "      <th>Date</th>\n",
              "      <th>Time</th>\n",
              "      <th>PdDistrict</th>\n",
              "      <th>Resolution</th>\n",
              "      <th>Address</th>\n",
              "      <th>X</th>\n",
              "      <th>Y</th>\n",
              "      <th>Location</th>\n",
              "    </tr>\n",
              "  </thead>\n",
              "  <tbody>\n",
              "    <tr>\n",
              "      <th>0</th>\n",
              "      <td>NaN</td>\n",
              "      <td>LARCENY/THEFT</td>\n",
              "      <td>GRAND THEFT FROM UNLOCKED AUTO</td>\n",
              "      <td>Sunday</td>\n",
              "      <td>08/31/2014 07:00:00 AM +0000</td>\n",
              "      <td>20:30</td>\n",
              "      <td>CENTRAL</td>\n",
              "      <td>NONE</td>\n",
              "      <td>HYDE ST / CALIFORNIA ST</td>\n",
              "      <td>-122.417393</td>\n",
              "      <td>37.790974</td>\n",
              "      <td>(37.7909741243888, -122.417392830334)</td>\n",
              "    </tr>\n",
              "    <tr>\n",
              "      <th>1</th>\n",
              "      <td>NaN</td>\n",
              "      <td>LARCENY/THEFT</td>\n",
              "      <td>GRAND THEFT FROM LOCKED AUTO</td>\n",
              "      <td>Sunday</td>\n",
              "      <td>08/31/2014 07:00:00 AM +0000</td>\n",
              "      <td>14:30</td>\n",
              "      <td>CENTRAL</td>\n",
              "      <td>NONE</td>\n",
              "      <td>COLUMBUS AV / JACKSON ST</td>\n",
              "      <td>-122.404418</td>\n",
              "      <td>37.796302</td>\n",
              "      <td>(37.7963018736036, -122.404417620748)</td>\n",
              "    </tr>\n",
              "    <tr>\n",
              "      <th>2</th>\n",
              "      <td>NaN</td>\n",
              "      <td>LARCENY/THEFT</td>\n",
              "      <td>GRAND THEFT FROM LOCKED AUTO</td>\n",
              "      <td>Sunday</td>\n",
              "      <td>08/31/2014 07:00:00 AM +0000</td>\n",
              "      <td>11:30</td>\n",
              "      <td>CENTRAL</td>\n",
              "      <td>NONE</td>\n",
              "      <td>SUTTER ST / STOCKTON ST</td>\n",
              "      <td>-122.406959</td>\n",
              "      <td>37.789435</td>\n",
              "      <td>(37.7894347630337, -122.406958660602)</td>\n",
              "    </tr>\n",
              "    <tr>\n",
              "      <th>3</th>\n",
              "      <td>NaN</td>\n",
              "      <td>DRUG/NARCOTIC</td>\n",
              "      <td>POSSESSION OF METH-AMPHETAMINE</td>\n",
              "      <td>Sunday</td>\n",
              "      <td>08/31/2014 07:00:00 AM +0000</td>\n",
              "      <td>17:49</td>\n",
              "      <td>MISSION</td>\n",
              "      <td>ARREST, BOOKED</td>\n",
              "      <td>16TH ST / MISSION ST</td>\n",
              "      <td>-122.419672</td>\n",
              "      <td>37.765050</td>\n",
              "      <td>(37.7650501214965, -122.419671780296)</td>\n",
              "    </tr>\n",
              "    <tr>\n",
              "      <th>4</th>\n",
              "      <td>NaN</td>\n",
              "      <td>DRUG/NARCOTIC</td>\n",
              "      <td>POSSESSION OF COCAINE</td>\n",
              "      <td>Sunday</td>\n",
              "      <td>08/31/2014 07:00:00 AM +0000</td>\n",
              "      <td>18:05</td>\n",
              "      <td>NORTHERN</td>\n",
              "      <td>ARREST, BOOKED</td>\n",
              "      <td>LARKIN ST / OFARRELL ST</td>\n",
              "      <td>-122.417904</td>\n",
              "      <td>37.785167</td>\n",
              "      <td>(37.7851670875814, -122.417903977564)</td>\n",
              "    </tr>\n",
              "    <tr>\n",
              "      <th>...</th>\n",
              "      <td>...</td>\n",
              "      <td>...</td>\n",
              "      <td>...</td>\n",
              "      <td>...</td>\n",
              "      <td>...</td>\n",
              "      <td>...</td>\n",
              "      <td>...</td>\n",
              "      <td>...</td>\n",
              "      <td>...</td>\n",
              "      <td>...</td>\n",
              "      <td>...</td>\n",
              "      <td>...</td>\n",
              "    </tr>\n",
              "    <tr>\n",
              "      <th>30755</th>\n",
              "      <td>NaN</td>\n",
              "      <td>LARCENY/THEFT</td>\n",
              "      <td>PETTY THEFT SHOPLIFTING</td>\n",
              "      <td>Sunday</td>\n",
              "      <td>06/01/2014 07:00:00 AM +0000</td>\n",
              "      <td>15:30</td>\n",
              "      <td>SOUTHERN</td>\n",
              "      <td>ARREST, BOOKED</td>\n",
              "      <td>900.0 Block of MARKET ST</td>\n",
              "      <td>-122.408052</td>\n",
              "      <td>37.783957</td>\n",
              "      <td>(37.7839574642528, -122.408051765969)</td>\n",
              "    </tr>\n",
              "    <tr>\n",
              "      <th>30756</th>\n",
              "      <td>NaN</td>\n",
              "      <td>OTHER OFFENSES</td>\n",
              "      <td>DRIVERS LICENSE, SUSPENDED OR REVOKED</td>\n",
              "      <td>Sunday</td>\n",
              "      <td>06/01/2014 07:00:00 AM +0000</td>\n",
              "      <td>16:00</td>\n",
              "      <td>NORTHERN</td>\n",
              "      <td>ARREST, CITED</td>\n",
              "      <td>POLK ST / MCALLISTER ST</td>\n",
              "      <td>-122.418601</td>\n",
              "      <td>37.780261</td>\n",
              "      <td>(37.7802607511488, -122.418600974625)</td>\n",
              "    </tr>\n",
              "    <tr>\n",
              "      <th>30757</th>\n",
              "      <td>NaN</td>\n",
              "      <td>ASSAULT</td>\n",
              "      <td>BATTERY</td>\n",
              "      <td>Sunday</td>\n",
              "      <td>06/01/2014 07:00:00 AM +0000</td>\n",
              "      <td>15:00</td>\n",
              "      <td>TENDERLOIN</td>\n",
              "      <td>ARREST, CITED</td>\n",
              "      <td>0.0 Block of JONES ST</td>\n",
              "      <td>-122.412122</td>\n",
              "      <td>37.781379</td>\n",
              "      <td>(37.7813786419025, -122.412121608136)</td>\n",
              "    </tr>\n",
              "    <tr>\n",
              "      <th>30758</th>\n",
              "      <td>NaN</td>\n",
              "      <td>ASSAULT</td>\n",
              "      <td>ASSAULT WITH CAUSTIC CHEMICALS</td>\n",
              "      <td>Sunday</td>\n",
              "      <td>06/01/2014 07:00:00 AM +0000</td>\n",
              "      <td>15:20</td>\n",
              "      <td>CENTRAL</td>\n",
              "      <td>NONE</td>\n",
              "      <td>200.0 Block of GEARY ST</td>\n",
              "      <td>-122.407434</td>\n",
              "      <td>37.787494</td>\n",
              "      <td>(37.7874944447786, -122.407434204569)</td>\n",
              "    </tr>\n",
              "    <tr>\n",
              "      <th>30759</th>\n",
              "      <td>NaN</td>\n",
              "      <td>OTHER OFFENSES</td>\n",
              "      <td>DRIVERS LICENSE, SUSPENDED OR REVOKED</td>\n",
              "      <td>Sunday</td>\n",
              "      <td>06/01/2014 07:00:00 AM +0000</td>\n",
              "      <td>13:15</td>\n",
              "      <td>INGLESIDE</td>\n",
              "      <td>ARREST, CITED</td>\n",
              "      <td>MISSION ST / BOSWORTH ST</td>\n",
              "      <td>-122.426391</td>\n",
              "      <td>37.733675</td>\n",
              "      <td>(37.7336749150401, -122.426391018521)</td>\n",
              "    </tr>\n",
              "  </tbody>\n",
              "</table>\n",
              "<p>30760 rows × 12 columns</p>\n",
              "</div>"
            ],
            "text/plain": [
              "       IncidntNum  ...                               Location\n",
              "0             NaN  ...  (37.7909741243888, -122.417392830334)\n",
              "1             NaN  ...  (37.7963018736036, -122.404417620748)\n",
              "2             NaN  ...  (37.7894347630337, -122.406958660602)\n",
              "3             NaN  ...  (37.7650501214965, -122.419671780296)\n",
              "4             NaN  ...  (37.7851670875814, -122.417903977564)\n",
              "...           ...  ...                                    ...\n",
              "30755         NaN  ...  (37.7839574642528, -122.408051765969)\n",
              "30756         NaN  ...  (37.7802607511488, -122.418600974625)\n",
              "30757         NaN  ...  (37.7813786419025, -122.412121608136)\n",
              "30758         NaN  ...  (37.7874944447786, -122.407434204569)\n",
              "30759         NaN  ...  (37.7336749150401, -122.426391018521)\n",
              "\n",
              "[30760 rows x 12 columns]"
            ]
          },
          "metadata": {},
          "execution_count": 4
        }
      ]
    },
    {
      "cell_type": "markdown",
      "metadata": {
        "id": "t5PHCRgJO4lG"
      },
      "source": [
        "b) Use the function `columns` to view the name of the variables in the DataFrame."
      ]
    },
    {
      "cell_type": "code",
      "metadata": {
        "collapsed": true,
        "colab": {
          "base_uri": "https://localhost:8080/"
        },
        "id": "VPUUNTWrO4lH",
        "outputId": "45610c62-2df5-45c9-a9d3-e0508b270e96"
      },
      "source": [
        "# Code cell 5\n",
        "SF.columns"
      ],
      "execution_count": null,
      "outputs": [
        {
          "output_type": "execute_result",
          "data": {
            "text/plain": [
              "Index(['IncidntNum', 'Category', 'Descript', 'DayOfWeek', 'Date', 'Time',\n",
              "       'PdDistrict', 'Resolution', 'Address', 'X', 'Y', 'Location'],\n",
              "      dtype='object')"
            ]
          },
          "metadata": {},
          "execution_count": 5
        }
      ]
    },
    {
      "cell_type": "markdown",
      "metadata": {
        "id": "0tSsBpsUO4lO"
      },
      "source": [
        "How many variables are contained in the SF data frame (ignore the Index)?"
      ]
    },
    {
      "cell_type": "markdown",
      "metadata": {
        "id": "HaWzAeCoO4lP"
      },
      "source": [
        ""
      ]
    },
    {
      "cell_type": "markdown",
      "metadata": {
        "id": "arp9NeidO4lQ"
      },
      "source": [
        "c) Use the function `len` to determine the number of rows in the dataset."
      ]
    },
    {
      "cell_type": "code",
      "metadata": {
        "collapsed": true,
        "colab": {
          "base_uri": "https://localhost:8080/"
        },
        "id": "xaPMW7t4O4lQ",
        "outputId": "5e647b35-29f4-4ff8-ad26-037c0f2acb9d"
      },
      "source": [
        "# Code cell 6\n",
        "len(SF)"
      ],
      "execution_count": null,
      "outputs": [
        {
          "output_type": "execute_result",
          "data": {
            "text/plain": [
              "30760"
            ]
          },
          "metadata": {},
          "execution_count": 6
        }
      ]
    },
    {
      "cell_type": "markdown",
      "metadata": {
        "id": "n-b77OXnO4lS"
      },
      "source": [
        "## Part 3: Prepare the Data\n",
        "\n",
        "Now that you have the data loaded into the work environment and determined the analysis you want to perform, it is time to prepare the data for analysis.\n"
      ]
    },
    {
      "cell_type": "markdown",
      "metadata": {
        "id": "H1-GOeMCO4lT"
      },
      "source": [
        "#### Step 1: Extract the month and day from the Date field."
      ]
    },
    {
      "cell_type": "markdown",
      "metadata": {
        "id": "uiXGYchmO4lT"
      },
      "source": [
        "`lambda` is a Python keyword to define so-called *anonymous functions*. `lambda` allows you to specify a function in one line of code, without using `def` and without defining a specific name for it. The syntax for a `lambda` expression is :\n",
        "\n",
        "`lambda` *parameters* : *expression*.\n",
        "\n",
        "In the following, the `lambda` function is used to create an inline function that selects only the month digits from the Date variable, and `int` to transform a string representation into an integer. Then, the *pandas* function `apply` is used to apply this function to an entire column (in practice, `apply` implicitly defines a `for` loop and passes one by one the rows to the `lambda` function).  The same procedure can be done for the Day. "
      ]
    },
    {
      "cell_type": "code",
      "metadata": {
        "collapsed": true,
        "id": "zsri4GhhO4lU"
      },
      "source": [
        "# Code cell 7\n",
        "SF['Month'] = SF['Date'].apply(lambda row: int(row[0:2]))\n",
        "SF['Day'] = SF['Date'].apply(lambda row: int(row[3:5]))"
      ],
      "execution_count": null,
      "outputs": []
    },
    {
      "cell_type": "markdown",
      "metadata": {
        "id": "lU7q_X0AO4lV"
      },
      "source": [
        "To verify that these two variables were added to the SF data frame, use the `print` function to print some values from these columns, and `type` to check that these new columns contain indeed numerical values."
      ]
    },
    {
      "cell_type": "code",
      "metadata": {
        "collapsed": true,
        "colab": {
          "base_uri": "https://localhost:8080/"
        },
        "id": "kFyhARNzO4lW",
        "outputId": "69c710fd-766c-433e-a58a-bd143a00c029"
      },
      "source": [
        "# Code cell 8\n",
        "print(SF['Month'][0:2])\n",
        "print(SF['Day'][0:2])"
      ],
      "execution_count": null,
      "outputs": [
        {
          "output_type": "stream",
          "text": [
            "0    8\n",
            "1    8\n",
            "Name: Month, dtype: int64\n",
            "0    31\n",
            "1    31\n",
            "Name: Day, dtype: int64\n"
          ],
          "name": "stdout"
        }
      ]
    },
    {
      "cell_type": "code",
      "metadata": {
        "collapsed": true,
        "colab": {
          "base_uri": "https://localhost:8080/"
        },
        "id": "ImPk0PSVO4lX",
        "outputId": "e5cc1a09-a16d-4e39-ebe4-42189398f85a"
      },
      "source": [
        "# Code cell 9\n",
        "print(type(SF['Month'][0]))"
      ],
      "execution_count": null,
      "outputs": [
        {
          "output_type": "stream",
          "text": [
            "<class 'numpy.int64'>\n"
          ],
          "name": "stdout"
        }
      ]
    },
    {
      "cell_type": "markdown",
      "metadata": {
        "id": "ZZrdgNZjO4lY"
      },
      "source": [
        "#### Step 2: Remove variables from the SF data frame."
      ]
    },
    {
      "cell_type": "markdown",
      "metadata": {
        "id": "81RKzy_eO4lc"
      },
      "source": [
        "a) The column `IncidntNum` contains many cells with NaN. In this instance, the data is missing. Furthermore, the `IncidntNum` is not providing any value to the analysis. The column can be dropped from the data frame. One way to remove unwanted variables in a  data frame is by using the `del` function."
      ]
    },
    {
      "cell_type": "code",
      "metadata": {
        "collapsed": true,
        "id": "spH7_1uAO4le"
      },
      "source": [
        "# Code cell 10\n",
        "del SF['IncidntNum']"
      ],
      "execution_count": null,
      "outputs": []
    },
    {
      "cell_type": "markdown",
      "metadata": {
        "id": "MH1eUd_AO4lf"
      },
      "source": [
        "b) Similarly, the `Location` attribute will not be in this analysis. It can be droped from the data frame. \n",
        "<p>Alternatively, you can use the `drop` function on the data frame, specifying that the *axis* is the 1 (0 for rows), and that the command does not require an assignment to another value to store the result (*inplace = True* )."
      ]
    },
    {
      "cell_type": "code",
      "metadata": {
        "collapsed": true,
        "id": "zP55KDRjO4lg"
      },
      "source": [
        "# Code cell 11\n",
        "SF.drop('Location', axis=1, inplace=True )"
      ],
      "execution_count": null,
      "outputs": []
    },
    {
      "cell_type": "markdown",
      "metadata": {
        "id": "N8ppUBGvO4lh"
      },
      "source": [
        "c) Check that the columns have been removed."
      ]
    },
    {
      "cell_type": "code",
      "metadata": {
        "collapsed": true,
        "colab": {
          "base_uri": "https://localhost:8080/"
        },
        "id": "1GIC-LP8O4li",
        "outputId": "bd25b897-aae7-4fbe-ad25-f2f76385ad8f"
      },
      "source": [
        "# Code cell 12\n",
        "SF.columns"
      ],
      "execution_count": null,
      "outputs": [
        {
          "output_type": "execute_result",
          "data": {
            "text/plain": [
              "Index(['Category', 'Descript', 'DayOfWeek', 'Date', 'Time', 'PdDistrict',\n",
              "       'Resolution', 'Address', 'X', 'Y', 'Month', 'Day'],\n",
              "      dtype='object')"
            ]
          },
          "metadata": {},
          "execution_count": 12
        }
      ]
    },
    {
      "cell_type": "markdown",
      "metadata": {
        "id": "mB2nUbA4O4lj"
      },
      "source": [
        "## Part 4: Analyze the Data\n",
        "\n",
        "Now that the data frame has been prepared with the data, it is time to analyze the data. "
      ]
    },
    {
      "cell_type": "markdown",
      "metadata": {
        "id": "LBQCgd3XO4lk"
      },
      "source": [
        "#### Step 1: Summarize variables to obtain statistical information.\n",
        "\n",
        "a) Use the function `value_counts` to summarize the number of crimes committed by type, then `print` to display the contents of the *CountCategory* variable."
      ]
    },
    {
      "cell_type": "code",
      "metadata": {
        "collapsed": true,
        "colab": {
          "base_uri": "https://localhost:8080/"
        },
        "id": "Ww4V1OxqO4lq",
        "outputId": "8a2cdfd5-0af0-40e3-8786-223a2634db46"
      },
      "source": [
        "# Code cell 13\n",
        "CountCategory = SF['Category'].value_counts()\n",
        "print(CountCategory)"
      ],
      "execution_count": null,
      "outputs": [
        {
          "output_type": "stream",
          "text": [
            "LARCENY/THEFT              8205\n",
            "OTHER OFFENSES             4004\n",
            "NON-CRIMINAL               3653\n",
            "ASSAULT                    2518\n",
            "VEHICLE THEFT              1885\n",
            "                           ... \n",
            "LOITERING                     5\n",
            "BAD CHECKS                    3\n",
            "PORNOGRAPHY/OBSCENE MAT       1\n",
            "GAMBLING                      1\n",
            "BRIBERY                       1\n",
            "Name: Category, Length: 36, dtype: int64\n"
          ],
          "name": "stdout"
        }
      ]
    },
    {
      "cell_type": "markdown",
      "metadata": {
        "id": "T9bTvKNDO4ly"
      },
      "source": [
        "b) By default, the counts are ordered in descending order. The value of the optional parameter *ascending* can be set to *True* to reverse this behavior."
      ]
    },
    {
      "cell_type": "code",
      "metadata": {
        "collapsed": true,
        "colab": {
          "base_uri": "https://localhost:8080/"
        },
        "id": "AJPbLwurO4ly",
        "outputId": "7fd6e2c2-9440-42c2-af1f-811ef26d10a7"
      },
      "source": [
        "# Code cell 14\n",
        "SF['Category'].value_counts(ascending=True)"
      ],
      "execution_count": null,
      "outputs": [
        {
          "output_type": "execute_result",
          "data": {
            "text/plain": [
              "BRIBERY                       1\n",
              "GAMBLING                      1\n",
              "PORNOGRAPHY/OBSCENE MAT       1\n",
              "BAD CHECKS                    3\n",
              "LOITERING                     5\n",
              "                           ... \n",
              "VEHICLE THEFT              1885\n",
              "ASSAULT                    2518\n",
              "NON-CRIMINAL               3653\n",
              "OTHER OFFENSES             4004\n",
              "LARCENY/THEFT              8205\n",
              "Name: Category, Length: 36, dtype: int64"
            ]
          },
          "metadata": {},
          "execution_count": 14
        }
      ]
    },
    {
      "cell_type": "markdown",
      "metadata": {
        "id": "vuby_tgbO4lz"
      },
      "source": [
        "What type of crime was committed the most?"
      ]
    },
    {
      "cell_type": "markdown",
      "metadata": {
        "id": "BLFlVJI1O4l0"
      },
      "source": [
        ""
      ]
    },
    {
      "cell_type": "markdown",
      "metadata": {
        "id": "qnJl-XlUO4l0"
      },
      "source": [
        "c) By nesting the two functions into one command, you can accomplish the same result with one line of\n",
        "code."
      ]
    },
    {
      "cell_type": "code",
      "metadata": {
        "collapsed": true,
        "colab": {
          "base_uri": "https://localhost:8080/"
        },
        "id": "hIDTqZriO4l1",
        "outputId": "e794eba9-0eeb-421e-fa4c-b426d7d725be"
      },
      "source": [
        "# Code cell 15\n",
        "print(SF['Category'].value_counts(ascending=True))"
      ],
      "execution_count": null,
      "outputs": [
        {
          "output_type": "stream",
          "text": [
            "BRIBERY                       1\n",
            "GAMBLING                      1\n",
            "PORNOGRAPHY/OBSCENE MAT       1\n",
            "BAD CHECKS                    3\n",
            "LOITERING                     5\n",
            "                           ... \n",
            "VEHICLE THEFT              1885\n",
            "ASSAULT                    2518\n",
            "NON-CRIMINAL               3653\n",
            "OTHER OFFENSES             4004\n",
            "LARCENY/THEFT              8205\n",
            "Name: Category, Length: 36, dtype: int64\n"
          ],
          "name": "stdout"
        }
      ]
    },
    {
      "cell_type": "markdown",
      "metadata": {
        "id": "W3MdjqzvO4l2"
      },
      "source": [
        "**Challenge Question**: Which PdDistrict had the most incidents of reported crime? Provide the Python command(s)\n",
        "used to support your answer."
      ]
    },
    {
      "cell_type": "markdown",
      "metadata": {
        "collapsed": true,
        "id": "aY6st5TFO4l2"
      },
      "source": [
        ""
      ]
    },
    {
      "cell_type": "code",
      "metadata": {
        "collapsed": true,
        "colab": {
          "base_uri": "https://localhost:8080/"
        },
        "id": "r3u1BqA6O4l3",
        "outputId": "0b5d907b-ccf0-4fc9-96fa-5575a4049f24"
      },
      "source": [
        "# code cell 16\n",
        "# Possible code for the challenge question\n",
        "print(SF['PdDistrict'].value_counts(ascending=True))"
      ],
      "execution_count": null,
      "outputs": [
        {
          "output_type": "stream",
          "text": [
            "RICHMOND      1622\n",
            "PARK          1800\n",
            "TARAVAL       2038\n",
            "TENDERLOIN    2449\n",
            "INGLESIDE     2613\n",
            "BAYVIEW       2970\n",
            "NORTHERN      3205\n",
            "CENTRAL       3867\n",
            "MISSION       4011\n",
            "SOUTHERN      6185\n",
            "Name: PdDistrict, dtype: int64\n"
          ],
          "name": "stdout"
        }
      ]
    },
    {
      "cell_type": "markdown",
      "metadata": {
        "id": "QTpoOCeyO4l4"
      },
      "source": [
        "#### Step 2: Subset the data into smaller data frames."
      ]
    },
    {
      "cell_type": "markdown",
      "metadata": {
        "id": "6sYnBgcCO4l5"
      },
      "source": [
        "a) Logical indexing can be used to select only the rows for which a given condition is satisfied. For example, the following code extracts only the crimes committed in August, and stores the result in a new DataFrame."
      ]
    },
    {
      "cell_type": "code",
      "metadata": {
        "collapsed": true,
        "colab": {
          "base_uri": "https://localhost:8080/",
          "height": 597
        },
        "id": "inoPbgwaO4l6",
        "outputId": "79a536d2-2a3d-4a56-f338-19dade2cfaba"
      },
      "source": [
        "# Code cell 17\n",
        "AugustCrimes = SF[SF['Month'] == 8]\n",
        "AugustCrimes"
      ],
      "execution_count": null,
      "outputs": [
        {
          "output_type": "execute_result",
          "data": {
            "text/html": [
              "<div>\n",
              "<style scoped>\n",
              "    .dataframe tbody tr th:only-of-type {\n",
              "        vertical-align: middle;\n",
              "    }\n",
              "\n",
              "    .dataframe tbody tr th {\n",
              "        vertical-align: top;\n",
              "    }\n",
              "\n",
              "    .dataframe thead th {\n",
              "        text-align: right;\n",
              "    }\n",
              "</style>\n",
              "<table border=\"1\" class=\"dataframe\">\n",
              "  <thead>\n",
              "    <tr style=\"text-align: right;\">\n",
              "      <th></th>\n",
              "      <th>Category</th>\n",
              "      <th>Descript</th>\n",
              "      <th>DayOfWeek</th>\n",
              "      <th>Date</th>\n",
              "      <th>Time</th>\n",
              "      <th>PdDistrict</th>\n",
              "      <th>Resolution</th>\n",
              "      <th>Address</th>\n",
              "      <th>X</th>\n",
              "      <th>Y</th>\n",
              "      <th>Month</th>\n",
              "      <th>Day</th>\n",
              "    </tr>\n",
              "  </thead>\n",
              "  <tbody>\n",
              "    <tr>\n",
              "      <th>0</th>\n",
              "      <td>LARCENY/THEFT</td>\n",
              "      <td>GRAND THEFT FROM UNLOCKED AUTO</td>\n",
              "      <td>Sunday</td>\n",
              "      <td>08/31/2014 07:00:00 AM +0000</td>\n",
              "      <td>20:30</td>\n",
              "      <td>CENTRAL</td>\n",
              "      <td>NONE</td>\n",
              "      <td>HYDE ST / CALIFORNIA ST</td>\n",
              "      <td>-122.417393</td>\n",
              "      <td>37.790974</td>\n",
              "      <td>8</td>\n",
              "      <td>31</td>\n",
              "    </tr>\n",
              "    <tr>\n",
              "      <th>1</th>\n",
              "      <td>LARCENY/THEFT</td>\n",
              "      <td>GRAND THEFT FROM LOCKED AUTO</td>\n",
              "      <td>Sunday</td>\n",
              "      <td>08/31/2014 07:00:00 AM +0000</td>\n",
              "      <td>14:30</td>\n",
              "      <td>CENTRAL</td>\n",
              "      <td>NONE</td>\n",
              "      <td>COLUMBUS AV / JACKSON ST</td>\n",
              "      <td>-122.404418</td>\n",
              "      <td>37.796302</td>\n",
              "      <td>8</td>\n",
              "      <td>31</td>\n",
              "    </tr>\n",
              "    <tr>\n",
              "      <th>2</th>\n",
              "      <td>LARCENY/THEFT</td>\n",
              "      <td>GRAND THEFT FROM LOCKED AUTO</td>\n",
              "      <td>Sunday</td>\n",
              "      <td>08/31/2014 07:00:00 AM +0000</td>\n",
              "      <td>11:30</td>\n",
              "      <td>CENTRAL</td>\n",
              "      <td>NONE</td>\n",
              "      <td>SUTTER ST / STOCKTON ST</td>\n",
              "      <td>-122.406959</td>\n",
              "      <td>37.789435</td>\n",
              "      <td>8</td>\n",
              "      <td>31</td>\n",
              "    </tr>\n",
              "    <tr>\n",
              "      <th>3</th>\n",
              "      <td>DRUG/NARCOTIC</td>\n",
              "      <td>POSSESSION OF METH-AMPHETAMINE</td>\n",
              "      <td>Sunday</td>\n",
              "      <td>08/31/2014 07:00:00 AM +0000</td>\n",
              "      <td>17:49</td>\n",
              "      <td>MISSION</td>\n",
              "      <td>ARREST, BOOKED</td>\n",
              "      <td>16TH ST / MISSION ST</td>\n",
              "      <td>-122.419672</td>\n",
              "      <td>37.765050</td>\n",
              "      <td>8</td>\n",
              "      <td>31</td>\n",
              "    </tr>\n",
              "    <tr>\n",
              "      <th>4</th>\n",
              "      <td>DRUG/NARCOTIC</td>\n",
              "      <td>POSSESSION OF COCAINE</td>\n",
              "      <td>Sunday</td>\n",
              "      <td>08/31/2014 07:00:00 AM +0000</td>\n",
              "      <td>18:05</td>\n",
              "      <td>NORTHERN</td>\n",
              "      <td>ARREST, BOOKED</td>\n",
              "      <td>LARKIN ST / OFARRELL ST</td>\n",
              "      <td>-122.417904</td>\n",
              "      <td>37.785167</td>\n",
              "      <td>8</td>\n",
              "      <td>31</td>\n",
              "    </tr>\n",
              "    <tr>\n",
              "      <th>...</th>\n",
              "      <td>...</td>\n",
              "      <td>...</td>\n",
              "      <td>...</td>\n",
              "      <td>...</td>\n",
              "      <td>...</td>\n",
              "      <td>...</td>\n",
              "      <td>...</td>\n",
              "      <td>...</td>\n",
              "      <td>...</td>\n",
              "      <td>...</td>\n",
              "      <td>...</td>\n",
              "      <td>...</td>\n",
              "    </tr>\n",
              "    <tr>\n",
              "      <th>9715</th>\n",
              "      <td>NON-CRIMINAL</td>\n",
              "      <td>AIDED CASE, MENTAL DISTURBED</td>\n",
              "      <td>Friday</td>\n",
              "      <td>08/01/2014 07:00:00 AM +0000</td>\n",
              "      <td>19:55</td>\n",
              "      <td>MISSION</td>\n",
              "      <td>NONE</td>\n",
              "      <td>1100.0 Block of POTRERO AV</td>\n",
              "      <td>-122.406497</td>\n",
              "      <td>37.754279</td>\n",
              "      <td>8</td>\n",
              "      <td>1</td>\n",
              "    </tr>\n",
              "    <tr>\n",
              "      <th>9716</th>\n",
              "      <td>OTHER OFFENSES</td>\n",
              "      <td>MISCELLANEOUS INVESTIGATION</td>\n",
              "      <td>Friday</td>\n",
              "      <td>08/01/2014 07:00:00 AM +0000</td>\n",
              "      <td>22:47</td>\n",
              "      <td>RICHMOND</td>\n",
              "      <td>NONE</td>\n",
              "      <td>1500.0 Block of BRODERICK ST</td>\n",
              "      <td>-122.441458</td>\n",
              "      <td>37.784427</td>\n",
              "      <td>8</td>\n",
              "      <td>1</td>\n",
              "    </tr>\n",
              "    <tr>\n",
              "      <th>9717</th>\n",
              "      <td>ASSAULT</td>\n",
              "      <td>THREATS AGAINST LIFE</td>\n",
              "      <td>Friday</td>\n",
              "      <td>08/01/2014 07:00:00 AM +0000</td>\n",
              "      <td>23:55</td>\n",
              "      <td>BAYVIEW</td>\n",
              "      <td>NONE</td>\n",
              "      <td>400.0 Block of TUNNEL AV</td>\n",
              "      <td>-122.401364</td>\n",
              "      <td>37.709748</td>\n",
              "      <td>8</td>\n",
              "      <td>1</td>\n",
              "    </tr>\n",
              "    <tr>\n",
              "      <th>9718</th>\n",
              "      <td>DRIVING UNDER THE INFLUENCE</td>\n",
              "      <td>DRIVING WHILE UNDER THE INFLUENCE OF ALCOHOL</td>\n",
              "      <td>Friday</td>\n",
              "      <td>08/01/2014 07:00:00 AM +0000</td>\n",
              "      <td>23:38</td>\n",
              "      <td>NORTHERN</td>\n",
              "      <td>ARREST, BOOKED</td>\n",
              "      <td>OAK ST / LAGUNA ST</td>\n",
              "      <td>-122.425892</td>\n",
              "      <td>37.774599</td>\n",
              "      <td>8</td>\n",
              "      <td>1</td>\n",
              "    </tr>\n",
              "    <tr>\n",
              "      <th>9719</th>\n",
              "      <td>SEX OFFENSES, FORCIBLE</td>\n",
              "      <td>ASSAULT TO RAPE WITH BODILY FORCE</td>\n",
              "      <td>Friday</td>\n",
              "      <td>08/01/2014 07:00:00 AM +0000</td>\n",
              "      <td>00:01</td>\n",
              "      <td>MISSION</td>\n",
              "      <td>NONE</td>\n",
              "      <td>1000.0 Block of POTRERO AV</td>\n",
              "      <td>-122.406657</td>\n",
              "      <td>37.756826</td>\n",
              "      <td>8</td>\n",
              "      <td>1</td>\n",
              "    </tr>\n",
              "  </tbody>\n",
              "</table>\n",
              "<p>9720 rows × 12 columns</p>\n",
              "</div>"
            ],
            "text/plain": [
              "                         Category  ... Day\n",
              "0                   LARCENY/THEFT  ...  31\n",
              "1                   LARCENY/THEFT  ...  31\n",
              "2                   LARCENY/THEFT  ...  31\n",
              "3                   DRUG/NARCOTIC  ...  31\n",
              "4                   DRUG/NARCOTIC  ...  31\n",
              "...                           ...  ...  ..\n",
              "9715                 NON-CRIMINAL  ...   1\n",
              "9716               OTHER OFFENSES  ...   1\n",
              "9717                      ASSAULT  ...   1\n",
              "9718  DRIVING UNDER THE INFLUENCE  ...   1\n",
              "9719       SEX OFFENSES, FORCIBLE  ...   1\n",
              "\n",
              "[9720 rows x 12 columns]"
            ]
          },
          "metadata": {},
          "execution_count": 20
        }
      ]
    },
    {
      "cell_type": "markdown",
      "metadata": {
        "id": "LTp0-BGHO4l7"
      },
      "source": [
        "How many crime incidents were there for the month of August? "
      ]
    },
    {
      "cell_type": "markdown",
      "metadata": {
        "collapsed": true,
        "id": "c_ymVdZEO4l9"
      },
      "source": [
        ""
      ]
    },
    {
      "cell_type": "markdown",
      "metadata": {
        "id": "pYY8MsTDO4l-"
      },
      "source": [
        "How many burglaries were reported in the month of August?"
      ]
    },
    {
      "cell_type": "markdown",
      "metadata": {
        "id": "moL-g70xO4l_"
      },
      "source": [
        ""
      ]
    },
    {
      "cell_type": "code",
      "metadata": {
        "collapsed": true,
        "colab": {
          "base_uri": "https://localhost:8080/"
        },
        "id": "436LdrDzO4mA",
        "outputId": "cf8ac447-0602-4e7f-f864-fd37214c67a1"
      },
      "source": [
        "# code cell 18\n",
        "# Possible code for the question: How many burglaries were reported in the month of August?\n",
        "AugustCrimes = SF[SF['Month'] == 8]\n",
        "AugustCrimesB = SF[SF['Category'] == 'BURGLARY']\n",
        "len(AugustCrimesB)"
      ],
      "execution_count": null,
      "outputs": [
        {
          "output_type": "execute_result",
          "data": {
            "text/plain": [
              "1257"
            ]
          },
          "metadata": {},
          "execution_count": 21
        }
      ]
    },
    {
      "cell_type": "markdown",
      "metadata": {
        "id": "hMu_hdrHO4mA"
      },
      "source": [
        "b) To create a subset of the SF data frame for a specific day, use the function `query` operand to compare Month and Day at the same time."
      ]
    },
    {
      "cell_type": "code",
      "metadata": {
        "collapsed": true,
        "colab": {
          "base_uri": "https://localhost:8080/",
          "height": 597
        },
        "id": "r_kObnDeO4mC",
        "outputId": "208d7c6f-41cc-4fc0-ea73-3374759ca94a"
      },
      "source": [
        "# Code cell 19\n",
        "Crime0704 = SF.query('Month == 7 and Day == 4')\n",
        "Crime0704"
      ],
      "execution_count": null,
      "outputs": [
        {
          "output_type": "execute_result",
          "data": {
            "text/html": [
              "<div>\n",
              "<style scoped>\n",
              "    .dataframe tbody tr th:only-of-type {\n",
              "        vertical-align: middle;\n",
              "    }\n",
              "\n",
              "    .dataframe tbody tr th {\n",
              "        vertical-align: top;\n",
              "    }\n",
              "\n",
              "    .dataframe thead th {\n",
              "        text-align: right;\n",
              "    }\n",
              "</style>\n",
              "<table border=\"1\" class=\"dataframe\">\n",
              "  <thead>\n",
              "    <tr style=\"text-align: right;\">\n",
              "      <th></th>\n",
              "      <th>Category</th>\n",
              "      <th>Descript</th>\n",
              "      <th>DayOfWeek</th>\n",
              "      <th>Date</th>\n",
              "      <th>Time</th>\n",
              "      <th>PdDistrict</th>\n",
              "      <th>Resolution</th>\n",
              "      <th>Address</th>\n",
              "      <th>X</th>\n",
              "      <th>Y</th>\n",
              "      <th>Month</th>\n",
              "      <th>Day</th>\n",
              "    </tr>\n",
              "  </thead>\n",
              "  <tbody>\n",
              "    <tr>\n",
              "      <th>19087</th>\n",
              "      <td>LARCENY/THEFT</td>\n",
              "      <td>GRAND THEFT FROM LOCKED AUTO</td>\n",
              "      <td>Friday</td>\n",
              "      <td>07/04/2014 07:00:00 AM +0000</td>\n",
              "      <td>22:30</td>\n",
              "      <td>SOUTHERN</td>\n",
              "      <td>NONE</td>\n",
              "      <td>8TH ST / MISSION ST</td>\n",
              "      <td>-122.413161</td>\n",
              "      <td>37.777457</td>\n",
              "      <td>7</td>\n",
              "      <td>4</td>\n",
              "    </tr>\n",
              "    <tr>\n",
              "      <th>19088</th>\n",
              "      <td>LARCENY/THEFT</td>\n",
              "      <td>GRAND THEFT FROM LOCKED AUTO</td>\n",
              "      <td>Friday</td>\n",
              "      <td>07/04/2014 07:00:00 AM +0000</td>\n",
              "      <td>18:15</td>\n",
              "      <td>SOUTHERN</td>\n",
              "      <td>NONE</td>\n",
              "      <td>CLEMENTINA ST / 9TH ST</td>\n",
              "      <td>-122.412174</td>\n",
              "      <td>37.774201</td>\n",
              "      <td>7</td>\n",
              "      <td>4</td>\n",
              "    </tr>\n",
              "    <tr>\n",
              "      <th>19089</th>\n",
              "      <td>BURGLARY</td>\n",
              "      <td>BURGLARY,RESIDENCE UNDER CONSTRT, FORCIBLE ENTRY</td>\n",
              "      <td>Friday</td>\n",
              "      <td>07/04/2014 07:00:00 AM +0000</td>\n",
              "      <td>00:50</td>\n",
              "      <td>TARAVAL</td>\n",
              "      <td>NONE</td>\n",
              "      <td>0.0 Block of MENDOSA AV</td>\n",
              "      <td>-122.466414</td>\n",
              "      <td>37.748011</td>\n",
              "      <td>7</td>\n",
              "      <td>4</td>\n",
              "    </tr>\n",
              "    <tr>\n",
              "      <th>19090</th>\n",
              "      <td>NON-CRIMINAL</td>\n",
              "      <td>LOST PROPERTY</td>\n",
              "      <td>Friday</td>\n",
              "      <td>07/04/2014 07:00:00 AM +0000</td>\n",
              "      <td>19:00</td>\n",
              "      <td>PARK</td>\n",
              "      <td>NONE</td>\n",
              "      <td>CASTRO ST / 16TH ST</td>\n",
              "      <td>-122.435318</td>\n",
              "      <td>37.764102</td>\n",
              "      <td>7</td>\n",
              "      <td>4</td>\n",
              "    </tr>\n",
              "    <tr>\n",
              "      <th>19091</th>\n",
              "      <td>ASSAULT</td>\n",
              "      <td>BATTERY</td>\n",
              "      <td>Friday</td>\n",
              "      <td>07/04/2014 07:00:00 AM +0000</td>\n",
              "      <td>21:00</td>\n",
              "      <td>NORTHERN</td>\n",
              "      <td>NONE</td>\n",
              "      <td>1000.0 Block of POLK ST</td>\n",
              "      <td>-122.419783</td>\n",
              "      <td>37.785894</td>\n",
              "      <td>7</td>\n",
              "      <td>4</td>\n",
              "    </tr>\n",
              "    <tr>\n",
              "      <th>...</th>\n",
              "      <td>...</td>\n",
              "      <td>...</td>\n",
              "      <td>...</td>\n",
              "      <td>...</td>\n",
              "      <td>...</td>\n",
              "      <td>...</td>\n",
              "      <td>...</td>\n",
              "      <td>...</td>\n",
              "      <td>...</td>\n",
              "      <td>...</td>\n",
              "      <td>...</td>\n",
              "      <td>...</td>\n",
              "    </tr>\n",
              "    <tr>\n",
              "      <th>19423</th>\n",
              "      <td>LARCENY/THEFT</td>\n",
              "      <td>GRAND THEFT FROM LOCKED AUTO</td>\n",
              "      <td>Friday</td>\n",
              "      <td>07/04/2014 07:00:00 AM +0000</td>\n",
              "      <td>19:25</td>\n",
              "      <td>SOUTHERN</td>\n",
              "      <td>NONE</td>\n",
              "      <td>THE EMBARCADEROSOUTH ST / BRYANT ST</td>\n",
              "      <td>-122.388007</td>\n",
              "      <td>37.787103</td>\n",
              "      <td>7</td>\n",
              "      <td>4</td>\n",
              "    </tr>\n",
              "    <tr>\n",
              "      <th>19424</th>\n",
              "      <td>OTHER OFFENSES</td>\n",
              "      <td>LOST/STOLEN LICENSE PLATE</td>\n",
              "      <td>Friday</td>\n",
              "      <td>07/04/2014 07:00:00 AM +0000</td>\n",
              "      <td>11:00</td>\n",
              "      <td>INGLESIDE</td>\n",
              "      <td>NONE</td>\n",
              "      <td>0.0 Block of FRATESSA CT</td>\n",
              "      <td>-122.399762</td>\n",
              "      <td>37.716129</td>\n",
              "      <td>7</td>\n",
              "      <td>4</td>\n",
              "    </tr>\n",
              "    <tr>\n",
              "      <th>19425</th>\n",
              "      <td>LARCENY/THEFT</td>\n",
              "      <td>GRAND THEFT FROM LOCKED AUTO</td>\n",
              "      <td>Friday</td>\n",
              "      <td>07/04/2014 07:00:00 AM +0000</td>\n",
              "      <td>20:30</td>\n",
              "      <td>SOUTHERN</td>\n",
              "      <td>NONE</td>\n",
              "      <td>THE EMBARCADEROSOUTH ST / HARRISON ST</td>\n",
              "      <td>-122.388486</td>\n",
              "      <td>37.789573</td>\n",
              "      <td>7</td>\n",
              "      <td>4</td>\n",
              "    </tr>\n",
              "    <tr>\n",
              "      <th>19426</th>\n",
              "      <td>LARCENY/THEFT</td>\n",
              "      <td>GRAND THEFT FROM LOCKED AUTO</td>\n",
              "      <td>Friday</td>\n",
              "      <td>07/04/2014 07:00:00 AM +0000</td>\n",
              "      <td>08:00</td>\n",
              "      <td>SOUTHERN</td>\n",
              "      <td>NONE</td>\n",
              "      <td>11TH ST / HARRISON ST</td>\n",
              "      <td>-122.412483</td>\n",
              "      <td>37.770631</td>\n",
              "      <td>7</td>\n",
              "      <td>4</td>\n",
              "    </tr>\n",
              "    <tr>\n",
              "      <th>19427</th>\n",
              "      <td>LARCENY/THEFT</td>\n",
              "      <td>PETTY THEFT OF PROPERTY</td>\n",
              "      <td>Friday</td>\n",
              "      <td>07/04/2014 07:00:00 AM +0000</td>\n",
              "      <td>15:30</td>\n",
              "      <td>RICHMOND</td>\n",
              "      <td>NONE</td>\n",
              "      <td>3900.0 Block of GEARY BL</td>\n",
              "      <td>-122.461295</td>\n",
              "      <td>37.781181</td>\n",
              "      <td>7</td>\n",
              "      <td>4</td>\n",
              "    </tr>\n",
              "  </tbody>\n",
              "</table>\n",
              "<p>341 rows × 12 columns</p>\n",
              "</div>"
            ],
            "text/plain": [
              "             Category  ... Day\n",
              "19087   LARCENY/THEFT  ...   4\n",
              "19088   LARCENY/THEFT  ...   4\n",
              "19089        BURGLARY  ...   4\n",
              "19090    NON-CRIMINAL  ...   4\n",
              "19091         ASSAULT  ...   4\n",
              "...               ...  ...  ..\n",
              "19423   LARCENY/THEFT  ...   4\n",
              "19424  OTHER OFFENSES  ...   4\n",
              "19425   LARCENY/THEFT  ...   4\n",
              "19426   LARCENY/THEFT  ...   4\n",
              "19427   LARCENY/THEFT  ...   4\n",
              "\n",
              "[341 rows x 12 columns]"
            ]
          },
          "metadata": {},
          "execution_count": 22
        }
      ]
    },
    {
      "cell_type": "code",
      "metadata": {
        "collapsed": true,
        "colab": {
          "base_uri": "https://localhost:8080/"
        },
        "id": "diirc5BrO4mD",
        "outputId": "0778742c-35e9-4fa0-b1a5-347c441905b2"
      },
      "source": [
        "# Code cell 20\n",
        "SF.columns"
      ],
      "execution_count": null,
      "outputs": [
        {
          "output_type": "execute_result",
          "data": {
            "text/plain": [
              "Index(['Category', 'Descript', 'DayOfWeek', 'Date', 'Time', 'PdDistrict',\n",
              "       'Resolution', 'Address', 'X', 'Y', 'Month', 'Day'],\n",
              "      dtype='object')"
            ]
          },
          "metadata": {},
          "execution_count": 23
        }
      ]
    },
    {
      "cell_type": "markdown",
      "metadata": {
        "id": "5ttCCYPiO4mK"
      },
      "source": [
        "## Part 5: Present the Data\n",
        "\n",
        "Visualization and presentation of the data provides an instant overview that might not be apparent by simply\n",
        "looking at the raw data. The SF data frame contains longitude and latitude coordinates that can be used to\n",
        "plot the data."
      ]
    },
    {
      "cell_type": "markdown",
      "metadata": {
        "id": "Yij6onazO4mL"
      },
      "source": [
        "#### Step 1: Plot a graph of the SF data frame using the X and Y variables."
      ]
    },
    {
      "cell_type": "markdown",
      "metadata": {
        "id": "YltFtyM5O4mO"
      },
      "source": [
        "a) Use the `plot()` function to plot the SF data frame. Use the optional parameter to plot the graph in red and setting the marker shape to a circle using *ro* ."
      ]
    },
    {
      "cell_type": "code",
      "metadata": {
        "collapsed": true,
        "colab": {
          "base_uri": "https://localhost:8080/",
          "height": 265
        },
        "id": "VBMzG96fO4mP",
        "outputId": "2e677bec-aaf9-4e45-cd66-7ecc6fb268a4"
      },
      "source": [
        "# Code cell 21\n",
        "plt.plot(SF['X'],SF['Y'], 'ro')\n",
        "plt.show()"
      ],
      "execution_count": null,
      "outputs": [
        {
          "output_type": "display_data",
          "data": {
            "image/png": "[encoded data removed]",
            "text/plain": [
              "<Figure size 432x288 with 1 Axes>"
            ]
          },
          "metadata": {
            "needs_background": "light"
          }
        }
      ]
    },
    {
      "cell_type": "markdown",
      "metadata": {
        "id": "ON-65m08O4mQ"
      },
      "source": [
        "b) Identify the number of police department district, then build the dictionary *pd_districts* to associate their string to an integer."
      ]
    },
    {
      "cell_type": "code",
      "metadata": {
        "collapsed": true,
        "colab": {
          "base_uri": "https://localhost:8080/"
        },
        "id": "ikdJmNriO4mS",
        "outputId": "f5b1f15e-709d-4b6e-e4bc-83489a40793b"
      },
      "source": [
        "# Code cell 22\n",
        "pd_districts = np.unique(SF['PdDistrict'])\n",
        "pd_districts_levels = dict(zip(pd_districts, range(len(pd_districts))))\n",
        "pd_districts_levels"
      ],
      "execution_count": null,
      "outputs": [
        {
          "output_type": "execute_result",
          "data": {
            "text/plain": [
              "{'BAYVIEW': 0,\n",
              " 'CENTRAL': 1,\n",
              " 'INGLESIDE': 2,\n",
              " 'MISSION': 3,\n",
              " 'NORTHERN': 4,\n",
              " 'PARK': 5,\n",
              " 'RICHMOND': 6,\n",
              " 'SOUTHERN': 7,\n",
              " 'TARAVAL': 8,\n",
              " 'TENDERLOIN': 9}"
            ]
          },
          "metadata": {},
          "execution_count": 25
        }
      ]
    },
    {
      "cell_type": "markdown",
      "metadata": {
        "id": "xsfVTCwBO4mT"
      },
      "source": [
        "c) Use `apply` and `lambda` to add the police deparment integer id to a new column of the DataFrame "
      ]
    },
    {
      "cell_type": "code",
      "metadata": {
        "collapsed": true,
        "id": "-kPaJis9O4mU"
      },
      "source": [
        "# Code cell 23\n",
        "SF['PdDistrictCode'] = SF['PdDistrict'].apply(lambda row: pd_districts_levels[row])"
      ],
      "execution_count": null,
      "outputs": []
    },
    {
      "cell_type": "markdown",
      "metadata": {
        "id": "HrsVY7sKO4mV"
      },
      "source": [
        "d) Use the newly create *PdDistrictCode* to automatically change the color"
      ]
    },
    {
      "cell_type": "code",
      "metadata": {
        "collapsed": true,
        "colab": {
          "base_uri": "https://localhost:8080/",
          "height": 265
        },
        "id": "9I_BhR7YO4mW",
        "outputId": "92044ae5-8a38-4e16-da8d-36b2239b5822"
      },
      "source": [
        "# Code cell 24\n",
        "plt.scatter(SF['X'], SF['Y'], c=SF['PdDistrictCode'])\n",
        "plt.show()"
      ],
      "execution_count": null,
      "outputs": [
        {
          "output_type": "display_data",
          "data": {
            "image/png": "[encoded data removed]",
            "text/plain": [
              "<Figure size 432x288 with 1 Axes>"
            ]
          },
          "metadata": {
            "needs_background": "light"
          }
        }
      ]
    },
    {
      "cell_type": "markdown",
      "metadata": {
        "id": "k435I4OiO4mX"
      },
      "source": [
        "#### Step 2: Add Map packages to enhance the plot."
      ]
    },
    {
      "cell_type": "markdown",
      "metadata": {
        "id": "pya9iNLHO4mX"
      },
      "source": [
        "In Step 1, you created a simple plot that displays where crime incidents took place in SF County. This plot is\n",
        "useful, but `folium` provides additional functions that will allow you to overlay this plot onto an OpenStreet map. "
      ]
    },
    {
      "cell_type": "markdown",
      "metadata": {
        "id": "T2mWF7xAO4mY"
      },
      "source": [
        "a) `Folium` requires the color of the marker to be specified using an hexadecimal value. For this reason, we use the *colors* package, and select the necessary colors."
      ]
    },
    {
      "cell_type": "code",
      "metadata": {
        "collapsed": true,
        "colab": {
          "base_uri": "https://localhost:8080/"
        },
        "id": "qA0TDk9lO4mZ",
        "outputId": "12b073f4-3d80-4d19-aaa0-0714ee751c93"
      },
      "source": [
        "# Code cell 25\n",
        "from matplotlib import colors\n",
        "districts = np.unique(SF['PdDistrict'])\n",
        "print(list(colors.cnames.values())[0:len(districts)]) "
      ],
      "execution_count": null,
      "outputs": [
        {
          "output_type": "stream",
          "text": [
            "['#F0F8FF', '#FAEBD7', '#00FFFF', '#7FFFD4', '#F0FFFF', '#F5F5DC', '#FFE4C4', '#000000', '#FFEBCD', '#0000FF']\n"
          ],
          "name": "stdout"
        }
      ]
    },
    {
      "cell_type": "markdown",
      "metadata": {
        "id": "a7Mwv7GWO4mc"
      },
      "source": [
        "b) Create a color dictionary for each police department district."
      ]
    },
    {
      "cell_type": "code",
      "metadata": {
        "collapsed": true,
        "colab": {
          "base_uri": "https://localhost:8080/"
        },
        "id": "LugDWSRAO4mf",
        "outputId": "858ef97b-9d5a-4806-dc0a-958e729b1a31"
      },
      "source": [
        "# Code cell 26\n",
        "color_dict = dict(zip(districts, list(colors.cnames.values())[0:-1:len(districts)])) \n",
        "color_dict"
      ],
      "execution_count": null,
      "outputs": [
        {
          "output_type": "execute_result",
          "data": {
            "text/plain": [
              "{'BAYVIEW': '#F0F8FF',\n",
              " 'CENTRAL': '#8A2BE2',\n",
              " 'INGLESIDE': '#00FFFF',\n",
              " 'MISSION': '#FF8C00',\n",
              " 'NORTHERN': '#FF1493',\n",
              " 'PARK': '#F8F8FF',\n",
              " 'RICHMOND': '#4B0082',\n",
              " 'SOUTHERN': '#FAFAD2',\n",
              " 'TARAVAL': '#B0C4DE',\n",
              " 'TENDERLOIN': '#9370DB'}"
            ]
          },
          "metadata": {},
          "execution_count": 29
        }
      ]
    },
    {
      "cell_type": "markdown",
      "metadata": {
        "id": "y5GIzAKUO4mg"
      },
      "source": [
        "c) Create the map using the middle coordinates of the SF Data to center the map (using `mean`). To reduce the computation time,  *plotEvery* is used to limit amount of plotted data. Set this value to 1 to plot all the rows (might take a long time to visualize the map)."
      ]
    },
    {
      "cell_type": "code",
      "metadata": {
        "collapsed": true,
        "id": "nWb2gcYTO4mh"
      },
      "source": [
        "# Code cell 27\n",
        "# Create map\n",
        "map_osm = folium.Map(location=[SF['Y'].mean(), SF['X'].mean()], zoom_start = 12)\n",
        "plotEvery = 50\n",
        "obs = list(zip( SF['Y'], SF['X'], SF['PdDistrict'])) \n",
        "\n",
        "for el in obs[0:-1:plotEvery]: \n",
        "    \n",
        "    folium.CircleMarker(el[0:2], color=color_dict[el[2]], fill_color=el[2],radius=10).add_to(map_osm)\n",
        "    "
      ],
      "execution_count": null,
      "outputs": []
    },
    {
      "cell_type": "code",
      "metadata": {
        "collapsed": true,
        "scrolled": true,
        "id": "qEAS2_2DO4mi"
      },
      "source": [
        "# Code cell 28\n",
        "map_osm"
      ],
      "execution_count": null,
      "outputs": []
    },
    {
      "cell_type": "markdown",
      "metadata": {
        "collapsed": true,
        "id": "UYKxM99dO4mj"
      },
      "source": [
        "<font size='0.5'>&copy; 2017 Cisco and/or its affiliates. All rights reserved. This document is Cisco Public.<font>"
      ]
    }
  ]
}