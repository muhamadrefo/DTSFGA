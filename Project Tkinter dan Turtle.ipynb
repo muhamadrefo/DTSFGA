{
 "cells": [
  {
   "cell_type": "code",
   "execution_count": null,
   "id": "4d1f1e73",
   "metadata": {},
   "outputs": [],
   "source": []
  },
  {
   "cell_type": "markdown",
   "id": "050b546d",
   "metadata": {},
   "source": [
    "Thing's that need to do before accessing project:\n",
    "1. make new virtual env by typing (in command shell):\n",
    "virtualenv {name_project} in this project we named 'env-project'\n",
    "2. accessing virtual env by typing (in command shell):\n",
    "{name_project}\\Scripts\\activate\n",
    "3. check list of installed pip by typing (in command shell):\n",
    "pip list\n",
    "4. install jupyter notebook by typing (in command shell):\n",
    "pip install jupyter\n",
    "5. accessing jupyer notebook by typing (in command shell):\n",
    "jupyter notebook\n",
    "6. after new window pop-up, choose folder directory where the virtual env created and create new file.ipynb\n",
    "7. write your project and don't forget to change the 'untitled.ipynb' to the name project that you created"
   ]
  },
  {
   "cell_type": "markdown",
   "id": "13d0f987",
   "metadata": {},
   "source": [
    "# PROJECT 1 KALKULATOR KEUANGAN"
   ]
  },
  {
   "cell_type": "markdown",
   "id": "564263ea",
   "metadata": {},
   "source": [
    "#### url: https://www.geeksforgeeks.org/python-age-calculator-using-tkinter/"
   ]
  },
  {
   "cell_type": "code",
   "execution_count": 4,
   "id": "4a93b8d8",
   "metadata": {},
   "outputs": [],
   "source": [
    "from tkinter import * #this one will import all module inside packages tkinter\n",
    "from tkinter import messagebox #import module messagebox"
   ]
  },
  {
   "cell_type": "code",
   "execution_count": 5,
   "id": "78bdff44",
   "metadata": {},
   "outputs": [],
   "source": [
    "def clear_all():\n",
    "    income_field.delete(0,END)\n",
    "    lastSaved_field.delete(0,END)\n",
    "    forParent_field.delete(0,END)\n",
    "    zakat_field.delete(0,END)\n",
    "    emergency_field.delete(0,END)\n",
    "    dailyNeeds_field.delete(0,END)\n",
    "    newSaves_field.delete(0,END)\n",
    "    \n",
    "    #set focus on income_field entry box\n",
    "    income_field.focus_set()"
   ]
  },
  {
   "cell_type": "code",
   "execution_count": 6,
   "id": "5a57592b",
   "metadata": {},
   "outputs": [],
   "source": [
    "def check_error():\n",
    "    if income_field.get()=='':\n",
    "        messagebox.showerror('Masukkan uang')\n",
    "        clear_all()\n",
    "        return -1"
   ]
  },
  {
   "cell_type": "code",
   "execution_count": 21,
   "id": "ad48e2cb",
   "metadata": {},
   "outputs": [],
   "source": [
    "def calculate():\n",
    "    #check error\n",
    "    value = check_error()\n",
    "    if value == -1:\n",
    "        return\n",
    "    else:\n",
    "        #get from entry box\n",
    "        income = int(income_field.get())\n",
    "        #\n",
    "        if lastSaved_field.get()=='':\n",
    "            lastSaved = 0\n",
    "        else:\n",
    "            lastSaved = int(lastSaved_field.get())\n",
    "        \n",
    "        #\n",
    "        uo = income*0.25 #for parent\n",
    "        us = ((income*0.25)+lastSaved) #saves\n",
    "        za = income*0.05 #zakat\n",
    "        ud = income*0.1 #emergency money\n",
    "        uk = income*0.35 #daily needs\n",
    "#        tot = uo+us+za+ud+uk #sum\n",
    "        \n",
    "        #get from calculate\n",
    "        forParent_field.insert(10, str(uo))\n",
    "        zakat_field.insert(10, str(za))\n",
    "        emergency_field.insert(10, str(ud))\n",
    "        dailyNeeds_field.insert(10, str(uk))\n",
    "        newSaves_field.insert(10, str(us))"
   ]
  },
  {
   "cell_type": "code",
   "execution_count": 22,
   "id": "fed560c5",
   "metadata": {},
   "outputs": [],
   "source": [
    "#Driver Code\n",
    "if __name__ == \"__main__\":\n",
    "    root = Tk()\n",
    "    root.configure(background='gray')\n",
    "    root.geometry('350x350')\n",
    "    root.title('Kalkulator Keuangan')\n",
    "    \n",
    "    #create label input \n",
    "    label1 = Label(root, text='Uang Masuk', fg='white',bg='gray')\n",
    "    label2 = Label(root, text='Uang Tersimpan', fg='white',bg='gray')\n",
    "    \n",
    "    #create label to show result\n",
    "    label3 = Label(root, text='Untuk Or-Tu', fg='white',bg='gray')\n",
    "    label4 = Label(root, text='Zakat', fg='white',bg='gray')\n",
    "    label5 = Label(root, text='Tabungan Darurat', fg='white',bg='gray')\n",
    "    label6 = Label(root, text='Kebutuhan Belanja', fg='white',bg='gray')\n",
    "    label7 = Label(root, text='Tabungan', fg='white',bg='gray')\n",
    "    \n",
    "    #create grid each label\n",
    "    label1.grid(row=1, column=0, padx=10, pady=10)\n",
    "    label2.grid(row=2, column=0, padx=10, pady=10)\n",
    "    label3.grid(row=4, column=0, padx=10, pady=10)\n",
    "    label4.grid(row=5, column=0, padx=10, pady=10)\n",
    "    label5.grid(row=6, column=0, padx=10, pady=10)\n",
    "    label6.grid(row=7, column=0, padx=10, pady=10)\n",
    "    label7.grid(row=8, column=0, padx=10, pady=10)\n",
    "    \n",
    "    #create Entry Box\n",
    "    income_field = Entry(root)\n",
    "#    income_field.insert(0, 'Rp. ')\n",
    "    \n",
    "    lastSaved_field = Entry(root)\n",
    "#    lastSaved_field.insert(0, 'Rp. ')\n",
    "    \n",
    "    forParent_field = Entry(root)\n",
    "#    forParent_field.insert(0, 'Rp. ')\n",
    "    \n",
    "    zakat_field = Entry(root)\n",
    "#    zakat_field.insert(0, 'Rp. ')\n",
    "    \n",
    "    emergency_field = Entry(root)\n",
    "#    emergency_field.insert(0, 'Rp. ')\n",
    "    \n",
    "    dailyNeeds_field = Entry(root)\n",
    "#    dailyNeeds_field.insert(0, 'Rp. ')\n",
    "    \n",
    "    newSaves_field = Entry(root)\n",
    "#    newSaves_field.insert(0, 'Rp. ')\n",
    "    \n",
    "    income_field.grid(row=1, column=1, padx=10, pady=10)\n",
    "    lastSaved_field.grid(row=2, column=1, padx=10, pady=10)\n",
    "    forParent_field.grid(row=4, column=1, padx=10, pady=10)\n",
    "    zakat_field.grid(row=5, column=1, padx=10, pady=10)\n",
    "    emergency_field.grid(row=6, column=1, padx=10, pady=10)\n",
    "    dailyNeeds_field.grid(row=7, column=1, padx=10, pady=10)\n",
    "    newSaves_field.grid(row=8, column=1, padx=10, pady=10)\n",
    "    \n",
    "    #create button to calculate\n",
    "    button1 = Button(root, text='Hitung', command=calculate)\n",
    "    button2 = Button(root, text='Clear all', command=clear_all)\n",
    "    \n",
    "    button1.grid(row=1, column=2, pady=10)\n",
    "    button2.grid(row=2, column=2, pady=10)\n",
    "      \n",
    "    root.mainloop()\n",
    "    "
   ]
  },
  {
   "cell_type": "code",
   "execution_count": 11,
   "id": "05ebe1c2",
   "metadata": {},
   "outputs": [],
   "source": [
    "#requirement1.txt is the requirement to run this program"
   ]
  },
  {
   "cell_type": "markdown",
   "id": "8cb7c70b",
   "metadata": {},
   "source": [
    "# PROJECT 2 - HUT RI 76"
   ]
  },
  {
   "cell_type": "markdown",
   "id": "fb20c118",
   "metadata": {},
   "source": [
    "#### url: https://www.geeksforgeeks.org/how-to-make-indian-flag-using-turtle-python/"
   ]
  },
  {
   "cell_type": "code",
   "execution_count": 1,
   "id": "c2a57307",
   "metadata": {},
   "outputs": [],
   "source": [
    "import turtle\n",
    "from turtle import *\n",
    "from selamat import hut, hastag1, hastag2\n",
    "from flag import flag\n",
    "from peta import sumatera, jawa, kalimantan, sulawesi, papua, bali"
   ]
  },
  {
   "cell_type": "code",
   "execution_count": 2,
   "id": "85b2633b",
   "metadata": {},
   "outputs": [],
   "source": [
    "screen = turtle.Screen() #Munculkan screen turtle\n",
    "t = turtle.Turtle() #definisikan t sebagai object class\n",
    "t.speed(10) #definisi speed menggambar = fastest\n",
    "\n",
    "def show():\n",
    "    screen.screensize() #resize screen\n",
    "    screen.setup(width=1.0, height=1.0) #default fullscreen\n",
    "    sumatera()\n",
    "    jawa()\n",
    "    kalimantan()\n",
    "    sulawesi()\n",
    "    papua()\n",
    "    bali()\n",
    "    hut()\n",
    "    hastag1()\n",
    "    flag()\n",
    "    hastag2()\n",
    "    screen.exitonclick() #klik layar untuk terminate\n",
    "\n",
    "    "
   ]
  },
  {
   "cell_type": "code",
   "execution_count": 3,
   "id": "e1672f7a",
   "metadata": {},
   "outputs": [],
   "source": [
    "show()"
   ]
  },
  {
   "cell_type": "code",
   "execution_count": null,
   "id": "0ccc5ebd",
   "metadata": {},
   "outputs": [],
   "source": [
    "#requirement2.txt is the requirement to run this program"
   ]
  }
 ],
 "metadata": {
  "kernelspec": {
   "display_name": "Python 3 (ipykernel)",
   "language": "python",
   "name": "python3"
  },
  "language_info": {
   "codemirror_mode": {
    "name": "ipython",
    "version": 3
   },
   "file_extension": ".py",
   "mimetype": "text/x-python",
   "name": "python",
   "nbconvert_exporter": "python",
   "pygments_lexer": "ipython3",
   "version": "3.7.9"
  }
 },
 "nbformat": 4,
 "nbformat_minor": 5
}
